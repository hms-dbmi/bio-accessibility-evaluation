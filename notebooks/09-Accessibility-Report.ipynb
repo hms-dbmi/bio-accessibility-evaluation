{
 "cells": [
  {
   "cell_type": "markdown",
   "id": "b65462e8-9328-48c9-a4bd-1f368d5ebb0a",
   "metadata": {},
   "source": [
    "# Accessibility Report"
   ]
  },
  {
   "cell_type": "code",
   "execution_count": null,
   "id": "25f040ea-bd04-4ce5-9ab7-bb1f7befdfce",
   "metadata": {},
   "outputs": [],
   "source": [
    "import pandas as pd"
   ]
  },
  {
   "cell_type": "code",
   "execution_count": null,
   "id": "64de34d5-c696-4c54-b7c5-5da21a3e691d",
   "metadata": {},
   "outputs": [],
   "source": [
    "\"\"\"\n",
    "The name of the folder you created under `../data/`\n",
    "\"\"\"\n",
    "TIME_STAMP_FOLDER_NAME = '07-29-2024'"
   ]
  },
  {
   "cell_type": "code",
   "execution_count": null,
   "id": "befaa35c-41df-40f6-985a-13672a2d7469",
   "metadata": {},
   "outputs": [],
   "source": [
    "df = pd.read_csv(f\"../data/{TIME_STAMP_FOLDER_NAME}/reports/accessibility-status.csv\")\n",
    "df"
   ]
  },
  {
   "cell_type": "markdown",
   "id": "5d083da2-96b8-4509-bdfe-7e04cce12fd0",
   "metadata": {},
   "source": [
    "## Issue-wise Data"
   ]
  },
  {
   "cell_type": "code",
   "execution_count": null,
   "id": "269666b2-cb73-42a1-85e8-adb6f0de7515",
   "metadata": {},
   "outputs": [],
   "source": [
    "grouped = df.groupby([\n",
    "    'issue_id', 'issue_desc', 'issue_impact', 'issue_help', 'issue_url'\n",
    "]).agg({\n",
    "    'page_type': lambda x: ','.join(set(x)),\n",
    "    'page_category': lambda x: ','.join(set(x)),\n",
    "    'page_id': lambda x: ','.join(set(x)),\n",
    "    'page_url': lambda x: ','.join(set(x)),\n",
    "    'violations': 'sum',\n",
    "    'passes': 'sum',\n",
    "    'total_checks': 'sum',\n",
    "}).reset_index()\n",
    "\n",
    "grouped['failure_rate'] = grouped.violations / grouped.total_checks\n",
    "\n",
    "grouped.to_csv(f'../data/{TIME_STAMP_FOLDER_NAME}/reports/report.csv', index=False)\n",
    "grouped"
   ]
  },
  {
   "cell_type": "code",
   "execution_count": null,
   "id": "fbd54ab3-3d86-476b-a40a-686a001f3a7d",
   "metadata": {},
   "outputs": [],
   "source": []
  },
  {
   "cell_type": "code",
   "execution_count": null,
   "id": "eaffbf9c-666c-4616-89f2-9c7e4b5752c6",
   "metadata": {},
   "outputs": [],
   "source": []
  }
 ],
 "metadata": {
  "kernelspec": {
   "display_name": "Python 3 (ipykernel)",
   "language": "python",
   "name": "python3"
  },
  "language_info": {
   "codemirror_mode": {
    "name": "ipython",
    "version": 3
   },
   "file_extension": ".py",
   "mimetype": "text/x-python",
   "name": "python",
   "nbconvert_exporter": "python",
   "pygments_lexer": "ipython3",
   "version": "3.10.13"
  }
 },
 "nbformat": 4,
 "nbformat_minor": 5
}
