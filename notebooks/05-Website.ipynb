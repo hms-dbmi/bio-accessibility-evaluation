{
 "cells": [
  {
   "cell_type": "code",
   "execution_count": null,
   "id": "b66a85d8-6e33-4b2b-bbab-1bfea9f617e2",
   "metadata": {},
   "outputs": [],
   "source": [
    "import pandas as pd\n",
    "import altair as alt\n",
    "# alt.data_transformers.enable(\"vegafusion\")\n",
    "# !pip install -U altair_viewer"
   ]
  },
  {
   "cell_type": "code",
   "execution_count": null,
   "id": "6ca25618-00aa-4c0b-98bd-757a62f55be2",
   "metadata": {},
   "outputs": [],
   "source": [
    "# Define custom theme to be applied to all plots\n",
    "def theme():\n",
    "    return {\n",
    "        \"config\": {\n",
    "            \"title\": {\n",
    "                \"dy\": 1,\n",
    "                \"fontSize\": 24,\n",
    "                \"fontWeight\": 400,\n",
    "                \"align\": \"center\",\n",
    "                \"anchor\": \"middle\",\n",
    "                \"subtitleColor\": \"grey\",\n",
    "                \"subtitleFontSize\": 18\n",
    "            },\n",
    "            \"view\": {\n",
    "                \"fill\": \"#FCFCFC\",\n",
    "            },\n",
    "            \"header\": {\n",
    "                \"titleFontSize\": 18,\n",
    "                \"labelFontSize\": 18,\n",
    "                \"labelFontWeight\": 300,\n",
    "            },\n",
    "            \"axis\": {\n",
    "                \"titleFontSize\": 18,\n",
    "                \"titleFontWeight\": 400,\n",
    "                \"labelFontSize\": 18,\n",
    "                \"labelFontWeight\": 400,\n",
    "                \"labelLimit\": 1000,\n",
    "                \"domainWidth\": 1.5,\n",
    "                \"domainColor\": \"black\",\n",
    "                \"tickColor\": \"white\",\n",
    "                \"domain\": False,\n",
    "                \"zindex\": 1\n",
    "            },\n",
    "            # \"axisY\": {\n",
    "            #     \"domain\": False,\n",
    "            #     \"zindex\": 100\n",
    "            # },\n",
    "            \"legend\": {\n",
    "                \"titleFontSize\": 18,\n",
    "                \"titleFontWeight\": 400,\n",
    "                \"labelFontSize\": 18,\n",
    "                \"labelLimit\": 1000,\n",
    "                \"strokeColor\": '#F4F6F7',\n",
    "                \"padding\": 15\n",
    "            }\n",
    "        }\n",
    "    }\n",
    "\n",
    "alt.themes.register(\"theme\", theme)\n",
    "alt.themes.enable(\"theme\")"
   ]
  },
  {
   "cell_type": "code",
   "execution_count": null,
   "id": "80e04291-b11b-42f5-a8e6-61b70070c796",
   "metadata": {},
   "outputs": [],
   "source": [
    "\"\"\"\n",
    "The name of the folder you created under `../data/`\n",
    "\"\"\"\n",
    "TIME_STAMP_FOLDER_NAME = '08-01-2024'"
   ]
  },
  {
   "cell_type": "code",
   "execution_count": null,
   "id": "441b3c5b-a9a6-4936-b7e4-d2a5bf9c9b8f",
   "metadata": {},
   "outputs": [],
   "source": [
    "COLORS = {\n",
    "    'Data Portals': '#56B4E9',\n",
    "    'Journal Websites': '#CC79A7',\n",
    "    'government': '#009E73'\n",
    "}"
   ]
  },
  {
   "cell_type": "code",
   "execution_count": null,
   "id": "9b558057-3735-48b4-b110-9d3917396040",
   "metadata": {},
   "outputs": [],
   "source": [
    "df_pages = pd.read_csv(f'../data/{TIME_STAMP_FOLDER_NAME}/results/reports-by-page.csv')"
   ]
  },
  {
   "cell_type": "code",
   "execution_count": null,
   "id": "72e7e973-c135-4bfe-81cb-370075a24852",
   "metadata": {},
   "outputs": [],
   "source": [
    "df_pages.resource_category = df_pages.resource_category.apply(lambda x: 'Data Portals' if x == 'data-portal' else 'Journal Websites' if x == 'journal' else x)\n",
    "\n",
    "df = df_pages.groupby('resource_category').agg({'website_id': 'count'}).reset_index()\n",
    "df.rename(columns={'website_id': 'count'}, inplace=True)"
   ]
  },
  {
   "cell_type": "code",
   "execution_count": null,
   "id": "d6498945-6b5d-488f-af98-dfe550b9a6fa",
   "metadata": {},
   "outputs": [],
   "source": [
    "base = alt.Chart(\n",
    "    df[df.resource_category != 'government']\n",
    ").mark_bar(size=80, cornerRadiusEnd=6).encode(\n",
    "    alt.X('count', title='The Number of Pages Evaluated').axis(tickCount=5, orient='bottom'),\n",
    "    alt.Y('resource_category:N', title=None).axis(None),\n",
    "    alt.Color('resource_category:N', legend=None).scale(domain=list(COLORS.keys()), range=list(COLORS.values())),\n",
    "    tooltip=[\n",
    "        alt.Tooltip('resource_category:N', title='Resource Category'),\n",
    "        alt.Tooltip('count', format=',', title='Number of Pages Evaluated'),\n",
    "    ]\n",
    ")\n",
    "\n",
    "text = base.mark_text(\n",
    "    font='SF Pro Text',\n",
    "    align='right',\n",
    "    dx=-10,\n",
    "    size=28,\n",
    "    fontWeight=600\n",
    ").encode(\n",
    "    alt.Text('count', format=','),\n",
    "    color=alt.value('white')\n",
    ")\n",
    "\n",
    "text_resource = text.mark_text(dy=-60, dx=4, size=24, align='left').encode(\n",
    "    alt.Text('resource_category:N'),\n",
    "    color=alt.value('black'),\n",
    "    x=alt.value(0),\n",
    ")\n",
    "\n",
    "plot = (base + text + text_resource).configure_axis(\n",
    "    zindex=1\n",
    ").properties(    \n",
    "    # width='container',\n",
    "    # height='container'\n",
    "    width=500,\n",
    "    height=500,\n",
    ")\n",
    "# .properties(\n",
    "# )\n",
    "# .properties(\n",
    "#     title={\n",
    "#         'text': 'The Number of Pages Evaluated',\n",
    "#         'dy': -10\n",
    "#     }\n",
    "# )\n",
    "\n",
    "\"\"\"\n",
    "Create a `vega-lite` folder first!\n",
    "\"\"\"\n",
    "plot.save(f'../data/{TIME_STAMP_FOLDER_NAME}/website/statistics-num-pages.json')\n",
    "plot"
   ]
  },
  {
   "cell_type": "code",
   "execution_count": null,
   "id": "a4515499-cedf-4d61-b4d7-6dc80abdb8c8",
   "metadata": {},
   "outputs": [],
   "source": []
  }
 ],
 "metadata": {
  "kernelspec": {
   "display_name": "Python 3 (ipykernel)",
   "language": "python",
   "name": "python3"
  },
  "language_info": {
   "codemirror_mode": {
    "name": "ipython",
    "version": 3
   },
   "file_extension": ".py",
   "mimetype": "text/x-python",
   "name": "python",
   "nbconvert_exporter": "python",
   "pygments_lexer": "ipython3",
   "version": "3.10.13"
  }
 },
 "nbformat": 4,
 "nbformat_minor": 5
}
