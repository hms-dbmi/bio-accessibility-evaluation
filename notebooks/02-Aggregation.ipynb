{
 "cells": [
  {
   "cell_type": "markdown",
   "id": "dfcf5a59-cdb5-447a-a02a-00691e556ece",
   "metadata": {},
   "source": [
    "# Aggregation\n",
    "\n",
    "This combines metadata and accessibility issues."
   ]
  },
  {
   "cell_type": "code",
   "execution_count": null,
   "id": "60ceed6d-ec79-4645-a042-d6c8f198d611",
   "metadata": {},
   "outputs": [],
   "source": [
    "import pandas as pd"
   ]
  },
  {
   "cell_type": "code",
   "execution_count": null,
   "id": "7466ae00-9490-48b0-9d84-45888d549df2",
   "metadata": {},
   "outputs": [],
   "source": [
    "\"\"\"\n",
    "The name of the folder you created under `../data/`\n",
    "\"\"\"\n",
    "TIME_STAMP_FOLDER_NAME = '2024-08-01'"
   ]
  },
  {
   "cell_type": "code",
   "execution_count": null,
   "id": "4e47cea0-a9b7-4c78-aed0-8b27e3723118",
   "metadata": {},
   "outputs": [],
   "source": [
    "PAGE_COLUMNS = ['resource_category', 'website_id', 'page_id', 'page_type']\n",
    "ISSUE_ORIGINAL_COLUMNS = ['issue_id', 'issue_desc', 'issue_impact', 'issue_help', 'issue_url']\n",
    "ISSUE_COLUMNS = [\n",
    "    'issue_id',\n",
    "    'issue_desc',\n",
    "    'issue_impact',\n",
    "    'issue_help',\n",
    "    'issue_url',\n",
    "    'issue_name',\n",
    "    'issue_filter',\n",
    "    'issue_overall_impact',\n",
    "    'issue_note_overall_impact_hdv',\n",
    "    'issue_severity',\n",
    "    'issue_data_related',\n",
    "    'issue_data_related_rule',\n",
    "    'issue_pour_category',\n",
    "    'issue_wcag_level',\n",
    "    'issue_difficulty_to_fix',\n",
    "    'issue_missing_label_related'\n",
    "]"
   ]
  },
  {
   "cell_type": "code",
   "execution_count": null,
   "id": "125508c9-300c-4d98-b0e5-e0e0f6757382",
   "metadata": {},
   "outputs": [],
   "source": [
    "\"\"\"\n",
    "Merge Accessibility Status, Metadata, and Detailed Issues\n",
    "\"\"\"\n",
    "data_portal_metadata = pd.read_csv(f'../data/{TIME_STAMP_FOLDER_NAME}/input/data-portal/database-commons.csv', dtype={\"page_id\": \"string\"})\n",
    "journal_metadata = pd.read_csv(f'../data/{TIME_STAMP_FOLDER_NAME}/input/journal/sjr2022.csv', dtype={\"page_id\": \"string\"})\n",
    "journal_metadata = pd.read_csv(f'../data/{TIME_STAMP_FOLDER_NAME}/input/journal/sjr2022.csv', dtype={\"page_id\": \"string\"})\n",
    "reports = pd.read_csv(f\"../data/{TIME_STAMP_FOLDER_NAME}/results/accessibility-status.csv\", dtype={\"page_id\": \"string\"})\n",
    "issue = pd.read_csv(f'../data/{TIME_STAMP_FOLDER_NAME}/results/unique-issues-additional-labels-aug-9-2024.csv')\n",
    "\n",
    "data_portal_metadata['resource_category'] = 'data-portal'\n",
    "journal_metadata['resource_category'] = 'journal'\n",
    "\n",
    "\n",
    "reports = reports.merge(data_portal_metadata, how='left', on=PAGE_COLUMNS)\n",
    "reports = reports.merge(journal_metadata, how='left', on=PAGE_COLUMNS)\n",
    "\n",
    "reports = reports.merge(issue, how='left', on=ISSUE_ORIGINAL_COLUMNS)"
   ]
  },
  {
   "cell_type": "code",
   "execution_count": null,
   "id": "183819f3-d4d7-4887-b420-6485cf6daccd",
   "metadata": {},
   "outputs": [],
   "source": [
    "\"\"\"\n",
    "Filter out reports with errors\n",
    "\"\"\"\n",
    "reports = reports[reports.page_url != 'chrome-error://chromewebdata/']"
   ]
  },
  {
   "cell_type": "code",
   "execution_count": null,
   "id": "b1529a89-994b-4fba-800c-dc7201312404",
   "metadata": {},
   "outputs": [],
   "source": [
    "\"\"\"\n",
    "Merge columns with the same names across resource types\n",
    "\"\"\"\n",
    "reports['country'] = reports.country_x.fillna(reports.country_y)\n",
    "reports['url'] = reports.url_x.fillna(reports.url_y)\n",
    "reports.drop(columns=['country_x', 'country_y', 'url_x', 'url_y'], inplace=True)"
   ]
  },
  {
   "cell_type": "code",
   "execution_count": null,
   "id": "e4d2db97-390d-4621-96b4-c33e955ab96c",
   "metadata": {},
   "outputs": [],
   "source": [
    "\"\"\"\n",
    "Clean up regional columns\n",
    "\"\"\"\n",
    "def rename_countries(x: str):\n",
    "    if x == 'Korea Republic of' or x == 'Korea, Republic of':\n",
    "        return 'South Korea'\n",
    "    elif x == 'Korea, Democratic People\"S Republic of' or x == 'Korea, Democratic People':\n",
    "        return 'North Korea'\n",
    "    elif x == 'Russian Federation':\n",
    "        return 'Russia'\n",
    "    elif x == 'Iran, Islamic Republic Of':\n",
    "        return 'Iran'\n",
    "    else:\n",
    "        return x\n",
    "    \n",
    "reports.country = reports.country.apply(lambda x: rename_countries(x))"
   ]
  },
  {
   "cell_type": "code",
   "execution_count": null,
   "id": "2d8bf304-c6b4-4bad-a184-f851c7af7b69",
   "metadata": {},
   "outputs": [],
   "source": [
    "\"\"\"\n",
    "TODO: move this to the Data-Wrangling process\n",
    "Add missing country\n",
    "\"\"\"\n",
    "reports.loc[reports.resource_category == 'government', 'country'] = 'United States'\n",
    "reports.loc[reports.website_id == 'hubmap', 'country'] = 'United States'"
   ]
  },
  {
   "cell_type": "code",
   "execution_count": null,
   "id": "d121b116-f29c-4e0f-9ee3-217c19a6c417",
   "metadata": {},
   "outputs": [],
   "source": [
    "\"\"\"\n",
    "Add a \"continent\" column\n",
    "\"\"\"\n",
    "continent_country_map = pd.read_csv('https://raw.githubusercontent.com/dbouquin/IS_608/master/NanosatDB_munging/Countries-Continents.csv')\n",
    "continent_country_map = continent_country_map.rename(columns={\n",
    "    'Country': 'country',\n",
    "    'Continent': 'continent'\n",
    "})\n",
    "\n",
    "def clean_country_names(x):\n",
    "    if x == 'US':\n",
    "        return 'United States'\n",
    "    elif x == 'Korea, South':\n",
    "        return 'South Korea' \n",
    "    elif x == 'Korea, North':\n",
    "        return 'North Korea'\n",
    "    elif x == 'Russian Federation':\n",
    "        return 'Russia'\n",
    "    elif x == 'Samoa':\n",
    "        return 'American Samoa'\n",
    "    elif x == 'Vietnam':\n",
    "        return 'Viet Nam'\n",
    "    elif x == 'Serbia':\n",
    "        return 'Serbia and Montenegro'\n",
    "    else:\n",
    "        return x\n",
    "\n",
    "continent_country_map.country = continent_country_map.country.apply(lambda x: clean_country_names(x))\n",
    "\n",
    "_ = reports.copy()\n",
    "_ = _.merge(continent_country_map, left_on='country', right_on='country', how='left')\n",
    "_.loc[_.continent.isnull(), 'continent'] = _[_.continent.isnull()].country.apply(lambda x: 'Europe' if x == 'Czech Republic' or x == 'Guadeloupe' else x)\n",
    "\n",
    "# Some manual correction\n",
    "_.continent = _.continent.apply(lambda x: 'Europe' if x == 'Serbia' else 'Asia' if x == 'Taiwan' or x == 'Hong Kong' or x == 'Brunei Darussalam' else 'North America' if x == 'Puerto Rico' else x)\n",
    "\n",
    "reports = _"
   ]
  },
  {
   "cell_type": "code",
   "execution_count": null,
   "id": "e1cc2a5a-56e2-424e-891b-dca8eefa2cfc",
   "metadata": {},
   "outputs": [],
   "source": [
    "\"\"\"\n",
    "Group NIH institutions\n",
    "\"\"\"\n",
    "NIH_INSTS = [\n",
    "    'National Center for Biotechnology Information',\n",
    "    'National Cancer Institute',\n",
    "    'National Heart, Lung, and Blood Institute',\n",
    "    'National Center for Advancing Translational Sciences',\n",
    "    'National Institutes of Health',\n",
    "    'National Human Genome Research Institute',\n",
    "    'National Institute of Environmental Health Sciences',\n",
    "    'National Library of Medicine',\n",
    "    'National Institute of Standards and Technology',\n",
    "    'National Institute of Health',\n",
    "    'National Institute on Aging',\n",
    "    'National Institute of Neurological Disorders & Stroke',\n",
    "    'National Institute of Child Health and Human Development',\n",
    "    'National Eye Institute', # none found\n",
    "    'National Institute of Allergy and Infectious Diseases',\n",
    "    'National Institute of Arthritis and Musculoskeletal and Skin Diseases'\n",
    "]\n",
    "reports.loc[_.host_institution.isin(NIH_INSTS), 'host_institution'] = 'National Institutes of Health'"
   ]
  },
  {
   "cell_type": "code",
   "execution_count": null,
   "id": "a58ab14d-ff4b-46b2-afd4-7bf7c12afdf4",
   "metadata": {},
   "outputs": [],
   "source": [
    "\"\"\"\n",
    "Group Universities?\n",
    "\"\"\"\n",
    "# reports_aggregated.loc[_.host_institution.astype(str).str.contains('University', case=False, regex=False), 'host_institution'] = 'Educational Institution'\n",
    "# reports_aggregated.loc[_.host_institution.astype(str).str.contains('School', case=False, regex=False), 'host_institution'] = 'Educational Institution'\n",
    "# reports_aggregated.loc[_.host_institution.astype(str).str.contains('College', case=False, regex=False), 'host_institution'] = 'Educational Institution'"
   ]
  },
  {
   "cell_type": "markdown",
   "id": "5f75a624-0210-4bb3-ba6c-418875cf0827",
   "metadata": {},
   "source": [
    "## Save Individual Issues"
   ]
  },
  {
   "cell_type": "code",
   "execution_count": null,
   "id": "6fb30d12-8b08-4697-b907-4c82766fd5fd",
   "metadata": {},
   "outputs": [],
   "source": [
    "reports.to_csv(\n",
    "    f\"../data/{TIME_STAMP_FOLDER_NAME}/results/reports.csv\",\n",
    "    index=False\n",
    ")"
   ]
  },
  {
   "cell_type": "markdown",
   "id": "c61acdd3-d0e9-4f2d-9056-953a8647f00e",
   "metadata": {},
   "source": [
    "## Save Data Aggregated By Page"
   ]
  },
  {
   "cell_type": "code",
   "execution_count": null,
   "id": "568d67a6-8367-401a-b7c7-8c7175ded1dd",
   "metadata": {},
   "outputs": [],
   "source": [
    "\"\"\"\n",
    "Store the column names for metadata of pages\n",
    "\"\"\"\n",
    "PAGE_METADATA_COLUMNS = [a for a in reports.columns.tolist() if a not in (ISSUE_COLUMNS + ['violations', 'passes', 'total_checks', 'failure_rate'])]"
   ]
  },
  {
   "cell_type": "code",
   "execution_count": null,
   "id": "837bd61c-34bc-4aa8-bbcf-836b60287d67",
   "metadata": {},
   "outputs": [],
   "source": [
    "\"\"\"\n",
    "Group by Page\n",
    "\"\"\"\n",
    "reports_by_page = reports.groupby(\n",
    "    PAGE_METADATA_COLUMNS,\n",
    "    dropna=False \n",
    ").agg({\n",
    "    'violations': 'sum',\n",
    "    'passes': 'sum',\n",
    "    'total_checks': 'sum',\n",
    "}).reset_index()"
   ]
  },
  {
   "cell_type": "code",
   "execution_count": null,
   "id": "b6ab3237-db79-4feb-a561-1334922e6b42",
   "metadata": {},
   "outputs": [],
   "source": [
    "\"\"\"\n",
    "Calculate the failure rate\n",
    "\"\"\"\n",
    "reports_by_page['failure_rate'] = reports_by_page.violations / reports_by_page.total_checks"
   ]
  },
  {
   "cell_type": "code",
   "execution_count": null,
   "id": "e1d2710c-257a-47b6-b1ae-8ea2ac44a110",
   "metadata": {},
   "outputs": [],
   "source": [
    "reports_by_page.to_csv(\n",
    "    f\"../data/{TIME_STAMP_FOLDER_NAME}/results/reports-by-page.csv\",\n",
    "    index=False\n",
    ")"
   ]
  },
  {
   "cell_type": "markdown",
   "id": "f6cee69d-c0c9-469d-b70b-81895d710608",
   "metadata": {},
   "source": [
    "## Save Data Aggregated By Issue and Resource Type"
   ]
  },
  {
   "cell_type": "code",
   "execution_count": null,
   "id": "fefcb6af-7232-4d30-a662-c41b9ca256b0",
   "metadata": {},
   "outputs": [],
   "source": [
    "\"\"\"\n",
    "Group by Issue and Resource Category\n",
    "\"\"\"\n",
    "reports_by_page_and_resource = reports.groupby(\n",
    "    (ISSUE_COLUMNS + ['resource_category']),\n",
    "    dropna=False \n",
    ").agg({\n",
    "    'violations': 'sum',\n",
    "    'passes': 'sum',\n",
    "    'total_checks': 'sum',\n",
    "}).reset_index()"
   ]
  },
  {
   "cell_type": "code",
   "execution_count": null,
   "id": "2308ee1f-f64f-4504-863d-5c7fb1d711a5",
   "metadata": {},
   "outputs": [],
   "source": [
    "reports_by_page_and_resource.to_csv(\n",
    "    f\"../data/{TIME_STAMP_FOLDER_NAME}/results/reports-by-issue-and-resource.csv\",\n",
    "    index=False\n",
    ")"
   ]
  },
  {
   "cell_type": "markdown",
   "id": "4d48eff2-1136-45b3-a796-d344d247caf3",
   "metadata": {},
   "source": [
    "## Save Data Aggregated By Issue"
   ]
  },
  {
   "cell_type": "code",
   "execution_count": null,
   "id": "4771b85e-3fe3-4295-859c-4c10c8b10a90",
   "metadata": {},
   "outputs": [],
   "source": [
    "\"\"\"\n",
    "Group by Issue\n",
    "\"\"\"\n",
    "reports_by_issue = reports.groupby(\n",
    "    ISSUE_COLUMNS,\n",
    "    dropna=False \n",
    ").agg({\n",
    "    'violations': 'sum',\n",
    "    'passes': 'sum',\n",
    "    'total_checks': 'sum',\n",
    "}).reset_index()"
   ]
  },
  {
   "cell_type": "code",
   "execution_count": null,
   "id": "d87220fe-1a4d-41e6-a660-97f72e6074e6",
   "metadata": {},
   "outputs": [],
   "source": [
    "reports_by_issue.to_csv(\n",
    "    f\"../data/{TIME_STAMP_FOLDER_NAME}/results/reports-by-issue.csv\",\n",
    "    index=False\n",
    ")"
   ]
  },
  {
   "cell_type": "markdown",
   "id": "ee37a15c-a600-4039-989e-24fec6e2596f",
   "metadata": {},
   "source": [
    "## Save Data For Statistical Analysis (Optional)\n",
    "\n",
    "This data is for sharing with a collaborator."
   ]
  },
  {
   "cell_type": "code",
   "execution_count": null,
   "id": "2d424b68-aa97-4ad4-82a1-29f71bf0a2cf",
   "metadata": {},
   "outputs": [],
   "source": [
    "from datetime import date\n",
    "\n",
    "\"\"\"\n",
    "Create a /share/ folder first\n",
    "\"\"\"\n",
    "for c in reports_by_page.resource_category.unique().tolist():\n",
    "    reports_by_page[reports_by_page.resource_category == c].dropna(axis=1, how='all').to_csv(\n",
    "        f\"../data/{TIME_STAMP_FOLDER_NAME}/share-for-statistical-analysis/{c}_{date.today()}.csv\",\n",
    "    )"
   ]
  }
 ],
 "metadata": {
  "kernelspec": {
   "display_name": "Python 3 (ipykernel)",
   "language": "python",
   "name": "python3"
  },
  "language_info": {
   "codemirror_mode": {
    "name": "ipython",
    "version": 3
   },
   "file_extension": ".py",
   "mimetype": "text/x-python",
   "name": "python",
   "nbconvert_exporter": "python",
   "pygments_lexer": "ipython3",
   "version": "3.10.13"
  }
 },
 "nbformat": 4,
 "nbformat_minor": 5
}
