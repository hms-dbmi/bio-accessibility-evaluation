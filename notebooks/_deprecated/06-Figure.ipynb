{
 "cells": [
  {
   "cell_type": "code",
   "execution_count": null,
   "id": "b0e30036-5cc5-4381-908f-84bf47cd65fb",
   "metadata": {},
   "outputs": [],
   "source": [
    "%load_ext autoreload\n",
    "%autoreload 2\n",
    "import pandas as pd\n",
    "from data_load import data_load \n",
    "import altair as alt"
   ]
  },
  {
   "cell_type": "code",
   "execution_count": null,
   "id": "62973738-d416-429c-b4c9-60561e9d668b",
   "metadata": {},
   "outputs": [],
   "source": [
    "df = data_load()"
   ]
  },
  {
   "cell_type": "code",
   "execution_count": null,
   "id": "5cc38813-e261-4650-b613-1adfb74dd81e",
   "metadata": {},
   "outputs": [],
   "source": [
    "df['d'].to_csv('data_portals.csv', index=False)\n",
    "df['j'].to_csv('journal_websites.csv', index=False)\n",
    "df['g'].to_csv('us_government_websites.csv', index=False)"
   ]
  },
  {
   "cell_type": "code",
   "execution_count": null,
   "id": "97394f5b-813b-4f28-a809-4ab72afc2ecb",
   "metadata": {},
   "outputs": [],
   "source": [
    "toy = df['d_agg']\n",
    "toy"
   ]
  },
  {
   "cell_type": "code",
   "execution_count": null,
   "id": "deaf2ad2-2666-405c-9eca-4717489acb4d",
   "metadata": {},
   "outputs": [],
   "source": [
    "toy.columns"
   ]
  },
  {
   "cell_type": "code",
   "execution_count": null,
   "id": "f6426195-1a3e-45c5-a688-bd65c0799503",
   "metadata": {},
   "outputs": [],
   "source": [
    "higher_than_gov_est_fr = len(toy[toy.failure_rate > 0.015346].short_name.tolist())\n",
    "all_data_portals = len(toy.short_name.tolist())\n",
    "\n",
    "higher_than_gov_est_fr / all_data_portals * 100"
   ]
  },
  {
   "cell_type": "code",
   "execution_count": null,
   "id": "4aa0eb53-acb7-4593-b3af-481d646e13df",
   "metadata": {},
   "outputs": [],
   "source": [
    "alt.Chart(toy).mark_circle().encode(alt.X('zindex:Q'), alt.Y('mean(failure_rate):Q'), alt.Tooltip(['short_name']))"
   ]
  },
  {
   "cell_type": "code",
   "execution_count": null,
   "id": "8ec90d3d-261a-4dd4-81bf-a8780e92084c",
   "metadata": {},
   "outputs": [],
   "source": [
    "d = df['d'].copy()\n",
    "j = df['j'].copy()"
   ]
  },
  {
   "cell_type": "code",
   "execution_count": null,
   "id": "d551e588-095c-48e7-a6f7-ae9a66c7351f",
   "metadata": {},
   "outputs": [],
   "source": [
    "# merged = pd.concat([d, j])\n",
    "# merged['issue_exist'] = merged.violations.apply(lambda x: 1 if x > 0 else 0)\n",
    "# d.head(1)\n",
    "d['issue_exist'] = d.violations.apply(lambda x: 1 if x > 0 else 0)\n",
    "j['issue_exist'] = j.violations.apply(lambda x: 1 if x > 0 else 0)\n",
    "d.head(2).columns"
   ]
  },
  {
   "cell_type": "code",
   "execution_count": null,
   "id": "683cf2d4-0be2-4be7-b622-97ce0866a1e9",
   "metadata": {},
   "outputs": [],
   "source": [
    "num_page_ids_d = len(d.page_id.unique().tolist())\n",
    "num_page_ids_j = len(j.page_id.unique().tolist())\n",
    "num_page_ids_d"
   ]
  },
  {
   "cell_type": "code",
   "execution_count": null,
   "id": "aca41d50-f8ad-4157-88d3-b963163fac36",
   "metadata": {},
   "outputs": [],
   "source": [
    "sorted_d = d[['issue_id', 'issue_exist']].groupby('issue_id').agg('sum')\n",
    "sorted_d.issue_exist = (sorted_d.issue_exist / num_page_ids_d)\n",
    "sorted_d = sorted_d.sort_values(by='issue_exist', ascending=False).reset_index()\n",
    "sorted_d"
   ]
  },
  {
   "cell_type": "code",
   "execution_count": null,
   "id": "b9dc6378-8ccd-4c17-9a26-fc6f85068300",
   "metadata": {},
   "outputs": [],
   "source": [
    "sorted_j = j[['issue_id', 'issue_exist']].groupby('issue_id').agg('sum')\n",
    "sorted_j.issue_exist = (sorted_j.issue_exist / num_page_ids_j)\n",
    "sorted_j = sorted_j.sort_values(by='issue_exist', ascending=False).reset_index()\n",
    "sorted_j"
   ]
  },
  {
   "cell_type": "code",
   "execution_count": null,
   "id": "8389b49c-d8da-4309-ae27-086db11f008a",
   "metadata": {},
   "outputs": [],
   "source": [
    "from theme import apply_theme\n",
    "COLORS = {\n",
    "    'd': '#56B4E9',\n",
    "    'j': '#CC79A7',\n",
    "    'g': '#009E73'\n",
    "}\n",
    "\n",
    "plot_d = alt.Chart(sorted_d.head(10)).mark_bar(\n",
    "    color=COLORS['d']\n",
    ").encode(\n",
    "    alt.X('issue_exist:Q', title='Proportion of webpages with issues').axis(format='%'),\n",
    "    alt.Y('issue_id:N', sort='-x', title='Accessibility Issues IDs').axis(titlePadding=40)\n",
    ").properties(\n",
    "    title='Data Portals',\n",
    "    height=300\n",
    ")\n",
    "\n",
    "plot_j = alt.Chart(sorted_j.head(10)).mark_bar(\n",
    "    color=COLORS['j']\n",
    ").encode(\n",
    "    alt.X('issue_exist:Q', title='Proportion of webpages with issues').axis(format='%'),\n",
    "    alt.Y('issue_id:N', sort='-x', title=None)\n",
    ").properties(\n",
    "    title='Journal Websites',\n",
    "    height=300\n",
    ")\n",
    "\n",
    "plot = plot_d | plot_j\n",
    "\n",
    "apply_theme(plot)"
   ]
  },
  {
   "cell_type": "code",
   "execution_count": null,
   "id": "3f65a395-4e30-47e4-ae8e-37fd54e81c69",
   "metadata": {},
   "outputs": [],
   "source": [
    "table_issues = [\n",
    "    'table-duplicate-name',\n",
    "    'td-headers-attr',\n",
    "    'empty-table-header',\n",
    "    'scope-attr-valid'\n",
    "]\n",
    "\n",
    "image_issues = [\n",
    "    'svg-img-alt',\n",
    "    'role-img-alt',\n",
    "    'image-alt',\n",
    "    'image-redundant-alt',\n",
    "    'area-alt'\n",
    "]"
   ]
  },
  {
   "cell_type": "code",
   "execution_count": null,
   "id": "fe4ac89e-f2a4-4310-937e-952db3884102",
   "metadata": {},
   "outputs": [],
   "source": [
    "temp = d[['page_id', 'issue_id', 'violations', 'issue_exist']].copy()\n",
    "temp['issue_data_representation'] = temp.issue_id.apply(lambda x: \"Table-related\" if x in table_issues else \"Image-related\" if x in image_issues else \"None\")\n",
    "\n",
    "temp = temp[['page_id', 'issue_data_representation', 'violations']].groupby(['page_id', 'issue_data_representation']).agg('sum').reset_index()\n",
    "temp['issue_exist'] = temp.violations.apply(lambda x: 1 if x > 0 else 0)\n",
    "temp = temp[['issue_data_representation', 'issue_exist']].groupby('issue_data_representation').agg('sum')\n",
    "temp.issue_exist = (temp.issue_exist / num_page_ids_d)\n",
    "temp = temp.reset_index()\n",
    "temp = temp[temp.issue_data_representation != 'None']\n",
    "dd = temp.copy()\n",
    "dd"
   ]
  },
  {
   "cell_type": "code",
   "execution_count": null,
   "id": "95c7af58-a23c-4eb2-aac2-06fe150d48da",
   "metadata": {},
   "outputs": [],
   "source": [
    "temp = j[['page_id', 'issue_id', 'violations', 'issue_exist']].copy()\n",
    "temp['issue_data_representation'] = temp.issue_id.apply(lambda x: \"Table-related\" if x in table_issues else \"Image-related\" if x in image_issues else \"None\")\n",
    "\n",
    "temp = temp[['page_id', 'issue_data_representation', 'violations']].groupby(['page_id', 'issue_data_representation']).agg('sum').reset_index()\n",
    "temp['issue_exist'] = temp.violations.apply(lambda x: 1 if x > 0 else 0)\n",
    "temp = temp[['issue_data_representation', 'issue_exist']].groupby('issue_data_representation').agg('sum')\n",
    "temp.issue_exist = (temp.issue_exist / num_page_ids_j)\n",
    "temp = temp.reset_index()\n",
    "temp = temp[temp.issue_data_representation != 'None']\n",
    "jd = temp.copy()\n",
    "jd"
   ]
  },
  {
   "cell_type": "code",
   "execution_count": null,
   "id": "d6aaa3b1-37d1-44a2-981a-285ef2ad4577",
   "metadata": {},
   "outputs": [],
   "source": [
    "from theme import apply_theme\n",
    "COLORS = {\n",
    "    'd': '#56B4E9',\n",
    "    'j': '#CC79A7',\n",
    "    'g': '#009E73'\n",
    "}\n",
    "\n",
    "plot_d = alt.Chart(dd).mark_bar(\n",
    "    color=COLORS['d'],\n",
    "    size=70\n",
    ").encode(\n",
    "    alt.Y('issue_exist:Q', title='Proportion of webpages with issues').axis(format='%', tickCount=5).scale(domain=[0, 0.5]),\n",
    "    alt.X('issue_data_representation:N', sort='-y', title=None).axis(titlePadding=40)\n",
    ").properties(\n",
    "    title='Data Portals',\n",
    "    width=300\n",
    ")\n",
    "\n",
    "plot_j = alt.Chart(jd).mark_bar(\n",
    "    color=COLORS['j'],\n",
    "    size=70\n",
    ").encode(\n",
    "    alt.Y('issue_exist:Q', title=None).axis(format='%', tickCount=5).scale(domain=[0, 0.5]),\n",
    "    alt.X('issue_data_representation:N', sort='-y', title=None)\n",
    ").properties(\n",
    "    title='Journal Websites',\n",
    "    width=300\n",
    ")\n",
    "\n",
    "plot = plot_d | plot_j\n",
    "\n",
    "apply_theme(plot)"
   ]
  },
  {
   "cell_type": "code",
   "execution_count": null,
   "id": "e77ace73-cceb-4707-9cdb-f145d0e386b6",
   "metadata": {},
   "outputs": [],
   "source": []
  }
 ],
 "metadata": {
  "kernelspec": {
   "display_name": "Python 3 (ipykernel)",
   "language": "python",
   "name": "python3"
  },
  "language_info": {
   "codemirror_mode": {
    "name": "ipython",
    "version": 3
   },
   "file_extension": ".py",
   "mimetype": "text/x-python",
   "name": "python",
   "nbconvert_exporter": "python",
   "pygments_lexer": "ipython3",
   "version": "3.10.13"
  }
 },
 "nbformat": 4,
 "nbformat_minor": 5
}
