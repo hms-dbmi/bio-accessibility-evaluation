{
 "cells": [
  {
   "cell_type": "code",
   "execution_count": null,
   "metadata": {},
   "outputs": [],
   "source": [
    "import pandas as pd\n",
    "import os\n",
    "from constants import EVALUATION_DATE_FOLDER"
   ]
  },
  {
   "cell_type": "markdown",
   "metadata": {},
   "source": [
    "# Filter\n",
    "\n",
    "This step mainly remove less relevant resources to narrow down our evaluation.\n",
    "\n",
    "This notebooks creates a file, i.e., `[RESOURCE_TYPE]_filtered_ids.csv` that contains the `id`s of resources that are selected for evaluation."
   ]
  },
  {
   "cell_type": "code",
   "execution_count": null,
   "metadata": {},
   "outputs": [],
   "source": [
    "# Make sure to set the proper path for saving the filtered data\n",
    "EVALUATION_DATE_FOLDER"
   ]
  },
  {
   "cell_type": "markdown",
   "metadata": {},
   "source": [
    "## Data Portals\n",
    "\n",
    "Nothing to filter out for data portals yet."
   ]
  },
  {
   "cell_type": "code",
   "execution_count": null,
   "metadata": {},
   "outputs": [],
   "source": [
    "PATH_GLOBAL_ID_TABLE = os.path.join('..', 'output', 'data-portal_id_map.csv')\n",
    "PATH_FILTERED_ID_TABLE = os.path.join('..', 'output', EVALUATION_DATE_FOLDER, 'data-portal_filtered_ids.csv')\n",
    "\n",
    "df_map = pd.read_csv(PATH_GLOBAL_ID_TABLE)\n",
    "df_map[['id', 'source_id']].to_csv(PATH_FILTERED_ID_TABLE, index=False)"
   ]
  },
  {
   "cell_type": "markdown",
   "metadata": {},
   "source": [
    "## Journals"
   ]
  },
  {
   "cell_type": "code",
   "execution_count": null,
   "metadata": {},
   "outputs": [],
   "source": [
    "# Somehow, `sjr_` is repeated. This is just a quick fix...\n",
    "# _ = pd.read_csv(os.path.join('..', 'output', EVALUATION_DATE_FOLDER, 'journal-portal_metadata.csv'))\n",
    "# _.source_id = _.source_id.apply(lambda x: x.replace('sjr_sjr_', 'sjr_'))\n",
    "# _.to_csv(os.path.join('..', 'output', EVALUATION_DATE_FOLDER, 'journal-portal_metadata.csv'), index=False)"
   ]
  },
  {
   "cell_type": "code",
   "execution_count": null,
   "metadata": {},
   "outputs": [],
   "source": [
    "PATH_FILTERED_ID_TABLE = os.path.join('..', 'output', EVALUATION_DATE_FOLDER, 'journal-portal_filtered_ids.csv')\n",
    "PATH_METADATA = os.path.join('..', 'output', EVALUATION_DATE_FOLDER, 'journal-portal_metadata.csv')"
   ]
  },
  {
   "cell_type": "code",
   "execution_count": null,
   "metadata": {},
   "outputs": [],
   "source": [
    "\"\"\"\n",
    "SJR contains journals that are not related to life sciences. We want to filter them out.\n",
    "\"\"\"\n",
    "df_meta = pd.read_csv(PATH_METADATA)\n",
    "\n",
    "# If you want to see the full list of areas, uncomment the below code\n",
    "# unique_areas = set()\n",
    "# for item in set(df_meta.areas):\n",
    "#     for area in item.split(';'):\n",
    "#         unique_areas.add(area)\n",
    "# print(unique_areas)\n",
    "\n",
    "# Interested in the following areas\n",
    "areas_interested = [\n",
    "    'Biochemistry, Genetics and Molecular Biology',\n",
    "    'Health Professions',\n",
    "    'Immunology and Microbiology',\n",
    "    'Medicine',\n",
    "    'Multidisciplinary',\n",
    "    'Neuroscience',\n",
    "    'Pharmacology, Toxicology and Pharmaceutics',\n",
    "    'Psychology',\n",
    "    'Agricultural and Biological Sciences'\n",
    "]\n",
    "\n",
    "# Filter out the metadata\n",
    "df_meta_filtered = df_meta[df_meta.areas.str.contains('|'.join(areas_interested))]\n",
    "\n",
    "print(len(df_meta) - len(df_meta_filtered), 'journals are filtered out.', len(df_meta_filtered), 'journals are kept.')"
   ]
  },
  {
   "cell_type": "code",
   "execution_count": null,
   "metadata": {},
   "outputs": [],
   "source": [
    "df_meta_filtered[['id', 'source_id']].to_csv(PATH_FILTERED_ID_TABLE, index=False)"
   ]
  },
  {
   "cell_type": "code",
   "execution_count": null,
   "metadata": {},
   "outputs": [],
   "source": []
  }
 ],
 "metadata": {
  "kernelspec": {
   "display_name": "Python 3 (ipykernel)",
   "language": "python",
   "name": "python3"
  },
  "language_info": {
   "codemirror_mode": {
    "name": "ipython",
    "version": 3
   },
   "file_extension": ".py",
   "mimetype": "text/x-python",
   "name": "python",
   "nbconvert_exporter": "python",
   "pygments_lexer": "ipython3",
   "version": "3.11.5"
  }
 },
 "nbformat": 4,
 "nbformat_minor": 4
}
