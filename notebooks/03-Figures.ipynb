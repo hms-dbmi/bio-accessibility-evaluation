{
 "cells": [
  {
   "cell_type": "markdown",
   "id": "b65462e8-9328-48c9-a4bd-1f368d5ebb0a",
   "metadata": {},
   "source": [
    "# Accessibility Report"
   ]
  },
  {
   "cell_type": "code",
   "execution_count": null,
   "id": "25f040ea-bd04-4ce5-9ab7-bb1f7befdfce",
   "metadata": {},
   "outputs": [],
   "source": [
    "import pandas as pd\n",
    "import altair as alt\n",
    "alt.data_transformers.enable(\"vegafusion\")"
   ]
  },
  {
   "cell_type": "code",
   "execution_count": null,
   "id": "9c9a9bb6-d9a1-4d8b-baec-94227cb9a266",
   "metadata": {},
   "outputs": [],
   "source": [
    "# Define custom theme to be applied to all plots\n",
    "def theme():\n",
    "    return {\n",
    "        \"config\": {\n",
    "            \"title\": {\n",
    "                \"dy\": 1,\n",
    "                \"fontFamily\": \"Arial\",\n",
    "                \"fontSize\": 22,\n",
    "                \"fontWeight\": 400,\n",
    "                \"align\": \"center\",\n",
    "                \"anchor\": \"middle\",\n",
    "                \"subtitleColor\": \"grey\",\n",
    "                \"subtitleFontSize\": 22\n",
    "            },\n",
    "            \"view\": {\n",
    "                \"fill\": \"#FCFCFC\",\n",
    "            },\n",
    "            \"header\": {\n",
    "                \"titleFontSize\": 30,\n",
    "                \"labelFontSize\": 30,\n",
    "                \"labelFontWeight\": 300,\n",
    "            },\n",
    "            \"axis\": {\n",
    "                \"fontFamily\": \"SF Pro Text\",\n",
    "                \"titleFontSize\": 23,\n",
    "                \"titleFontWeight\": 400,\n",
    "                \"labelFontSize\": 20,\n",
    "                \"labelFontWeight\": 400,\n",
    "                \"labelLimit\": 1000,\n",
    "                \"domainWidth\": 1.5,\n",
    "                \"domainColor\": \"black\",\n",
    "                \"tickColor\": \"white\",\n",
    "                \"domain\": False\n",
    "            },\n",
    "            \"legend\": {\n",
    "                \"fontFamily\": \"SF Pro Text\",\n",
    "                \"titleFontSize\": 23,\n",
    "                \"titleFontWeight\": 400,\n",
    "                \"labelFontSize\": 23,\n",
    "                \"labelLimit\": 1000,\n",
    "                \"strokeColor\": '#F4F6F7',\n",
    "                \"padding\": 15\n",
    "            }\n",
    "        }\n",
    "    }\n",
    "\n",
    "alt.themes.register(\"theme\", theme)\n",
    "alt.themes.enable(\"theme\")"
   ]
  },
  {
   "cell_type": "code",
   "execution_count": null,
   "id": "64de34d5-c696-4c54-b7c5-5da21a3e691d",
   "metadata": {},
   "outputs": [],
   "source": [
    "\"\"\"\n",
    "The name of the folder you created under `../data/`\n",
    "\"\"\"\n",
    "TIME_STAMP_FOLDER_NAME = '08-01-2024'"
   ]
  },
  {
   "cell_type": "code",
   "execution_count": null,
   "id": "8c945d09-eef5-4822-805a-e68375c12699",
   "metadata": {},
   "outputs": [],
   "source": [
    "PAGE_COLUMNS = ['resource_category', 'website_id', 'page_id', 'page_type']\n",
    "ISSUE_ORIGINAL_COLUMNS = ['issue_id', 'issue_desc', 'issue_impact', 'issue_help', 'issue_url']\n",
    "ISSUE_COLUMNS = [\n",
    "    'issue_id',\n",
    "    'issue_desc',\n",
    "    'issue_impact',\n",
    "    'issue_help',\n",
    "    'issue_url',\n",
    "    'issue_name',\n",
    "    'issue_filter',\n",
    "    'issue_overall_impact',\n",
    "    'issue_note_overall_impact_hdv',\n",
    "    'issue_severity',\n",
    "    'issue_data_related',\n",
    "    'issue_data_related_rule',\n",
    "    'issue_pour_category',\n",
    "    'issue_wcag_level',\n",
    "    'issue_difficulty_to_fix',\n",
    "    'issue_missing_label_related'\n",
    "]"
   ]
  },
  {
   "cell_type": "markdown",
   "id": "80f36b3c-ba7a-4b03-aa44-8444a586fd52",
   "metadata": {},
   "source": [
    "## Aggregate Data By Unique Website"
   ]
  },
  {
   "cell_type": "code",
   "execution_count": null,
   "id": "befaa35c-41df-40f6-985a-13672a2d7469",
   "metadata": {},
   "outputs": [],
   "source": [
    "\"\"\"\n",
    "Merge Accessibility Status, Metadata, and Detailed Issues\n",
    "\"\"\"\n",
    "data_portal_metadata = pd.read_csv(f'../data/{TIME_STAMP_FOLDER_NAME}/input/data-portal/database-commons.csv', dtype={\"page_id\": \"string\"})\n",
    "journal_metadata = pd.read_csv(f'../data/{TIME_STAMP_FOLDER_NAME}/input/journal/sjr2022.csv', dtype={\"page_id\": \"string\"})\n",
    "reports = pd.read_csv(f\"../data/{TIME_STAMP_FOLDER_NAME}/results/accessibility-status.csv\", dtype={\"page_id\": \"string\"})\n",
    "issue = pd.read_csv(f'../data/{TIME_STAMP_FOLDER_NAME}/results/unique-issues-additional-labels-aug-9-2024.csv')\n",
    "\n",
    "data_portal_metadata['resource_category'] = 'data-portal'\n",
    "journal_metadata['resource_category'] = 'journal'\n",
    "\n",
    "\n",
    "reports = reports.merge(data_portal_metadata, how='left', on=PAGE_COLUMNS)\n",
    "reports = reports.merge(journal_metadata, how='left', on=PAGE_COLUMNS)\n",
    "\n",
    "reports = reports.merge(issue, how='left', on=ISSUE_ORIGINAL_COLUMNS)\n",
    "\n",
    "reports.head(3)"
   ]
  },
  {
   "cell_type": "code",
   "execution_count": null,
   "id": "f7e1ecdb-7df7-47c2-aa6a-5d9e363e5c79",
   "metadata": {},
   "outputs": [],
   "source": [
    "\"\"\"\n",
    "Store the column names for metadata of pages\n",
    "\"\"\"\n",
    "PAGE_METADATA_COLUMNS = [a for a in reports.columns.tolist() if a not in (PAGE_COLUMNS + ISSUE_COLUMNS + ['violations', 'passes', 'total_checks', 'failure_rate'])] + ['resource_category']\n",
    "# PAGE_METADATA_COLUMNS"
   ]
  },
  {
   "cell_type": "code",
   "execution_count": null,
   "id": "493e152a-6270-4a81-aec2-67db6ead97dc",
   "metadata": {},
   "outputs": [],
   "source": [
    "\"\"\"\n",
    "Group by Page\n",
    "\"\"\"\n",
    "reports_aggregated = reports.groupby(\n",
    "    PAGE_METADATA_COLUMNS,\n",
    "    dropna=False \n",
    ").agg({\n",
    "    'violations': 'sum',\n",
    "    'passes': 'sum',\n",
    "    'total_checks': 'sum',\n",
    "}).reset_index()"
   ]
  },
  {
   "cell_type": "code",
   "execution_count": null,
   "id": "346d38d7-8d5c-44b4-a70b-4343d178db3a",
   "metadata": {},
   "outputs": [],
   "source": [
    "\"\"\"\n",
    "Failure Rate\n",
    "\"\"\"\n",
    "reports_aggregated['failure_rate'] = reports_aggregated.violations / reports_aggregated.total_checks"
   ]
  },
  {
   "cell_type": "code",
   "execution_count": null,
   "id": "27d380d3-04ba-4c72-b214-99fc5f588c00",
   "metadata": {},
   "outputs": [],
   "source": [
    "NUM_DATA_PORTALS = len(reports[reports.resource_category == 'data-portal'].website_id.unique().tolist())\n",
    "NUM_JOURNALS = len(reports[reports.resource_category == 'journal'].website_id.unique().tolist())\n",
    "(NUM_DATA_PORTALS, NUM_JOURNALS)"
   ]
  },
  {
   "cell_type": "code",
   "execution_count": null,
   "id": "fce14f8e-6704-4a6b-b074-acc3bec2e330",
   "metadata": {},
   "outputs": [],
   "source": [
    "reports_aggregated.columns"
   ]
  },
  {
   "cell_type": "markdown",
   "id": "9a6c0847-fbc5-46d9-8af3-45ed848fe09c",
   "metadata": {},
   "source": [
    "## Visualize"
   ]
  },
  {
   "cell_type": "code",
   "execution_count": null,
   "id": "96762dca-8da9-4610-926d-c4a66fdc61f0",
   "metadata": {},
   "outputs": [],
   "source": [
    "COLORS = {\n",
    "    'data-portal': '#56B4E9',\n",
    "    'journal': '#CC79A7',\n",
    "    'g': '#009E73'\n",
    "}\n",
    "# reports_aggregated"
   ]
  },
  {
   "cell_type": "code",
   "execution_count": null,
   "id": "1d5eb81d-d0f1-42a5-acc0-28029972e83d",
   "metadata": {},
   "outputs": [],
   "source": [
    "def histogram(df=None, resource_category=None):\n",
    "    df_copy = df[df.resource_category == resource_category].copy()\n",
    "\n",
    "    # df_copy = df_copy[~df_copy.titl.isna()]\n",
    "    \n",
    "    return (\n",
    "        alt.Chart(\n",
    "           df_copy\n",
    "        ).mark_bar(\n",
    "            color=COLORS[resource_category]\n",
    "        ).encode(\n",
    "            alt.X(f'failure_rate:Q', title='Failure rate').bin(extent=[0, 1], step=0.008).scale(domain=[0, 0.5], clamp=True).axis(format='%', zindex=10, tickCount=10),\n",
    "            alt.Y('count()', title=\"The number of webpages\").scale(type='linear').axis(tickCount=5),\n",
    "            # alt.Tooltip(['title:N', 'failure_rate:Q']),\n",
    "            # yOffset=\"jitter:Q\",\n",
    "        ).transform_calculate(\n",
    "            # Generate Gaussian jitter with a Box-Muller transform\n",
    "            jitter=\"sqrt(-2*log(random()))*cos(2*PI*random())\"\n",
    "        ).properties(\n",
    "            title={\n",
    "                \"text\": resource_category.replace('-', ' ').title(),\n",
    "                \"fontWeight\": 600,\n",
    "                \"color\": \"black\"\n",
    "            },\n",
    "            height=300,\n",
    "            width=400\n",
    "        )\n",
    "    )\n",
    "\n",
    "# baseline = (\n",
    "#     _.mark_rule(\n",
    "#         color='black',\n",
    "#         size=2,\n",
    "#         # size=500 / len(COUNTRY_SORT),\n",
    "#         strokeDash=[4, 4]\n",
    "#     ).encode(\n",
    "#         alt.X(f'baseline:Q', title='Failure rate'),\n",
    "#         y=alt.Y()\n",
    "#     ).transform_calculate(\n",
    "#         baseline=f\"{US_GOV_FR_MEAN}\"\n",
    "#     )\n",
    "# )\n",
    "    \n",
    "# _ = _ + baseline\n",
    "\n",
    "#     plot = _ if plot is None else plot | _\n",
    "\n",
    "plot = alt.hconcat(\n",
    "    histogram(reports_aggregated, 'data-portal'),\n",
    "    histogram(reports_aggregated, 'journal')\n",
    ")\n",
    "\n",
    "# plot.save(f'../data/{TIME_STAMP_FOLDER_NAME}/figures/histogram.png')\n",
    "plot"
   ]
  },
  {
   "cell_type": "code",
   "execution_count": null,
   "id": "5fca4841-20be-48e8-a84c-950b7ea36334",
   "metadata": {},
   "outputs": [],
   "source": [
    "pd.set_option(\"display.precision\", 100)\n",
    "reports_aggregated[(reports_aggregated.failure_rate > 0.0363636) & (reports_aggregated.failure_rate < 0.0363637)]\n",
    "# reports_aggregated"
   ]
  },
  {
   "cell_type": "code",
   "execution_count": null,
   "id": "d3491a98-b4a3-4ebb-bb01-df9c886d9d6a",
   "metadata": {},
   "outputs": [],
   "source": [
    "reports[reports.page_url == 'http://n.neurology.org/']"
   ]
  },
  {
   "cell_type": "code",
   "execution_count": null,
   "id": "7a3a3f1d-cb1e-445d-86cf-d92beec9b674",
   "metadata": {},
   "outputs": [],
   "source": [
    "reports[reports.page_url == 'http://arjournals.annualreviews.org/loi/ecolsys']"
   ]
  },
  {
   "cell_type": "code",
   "execution_count": null,
   "id": "458e7c2b-8c1c-4d35-a02b-b27e2f41b573",
   "metadata": {},
   "outputs": [],
   "source": [
    "reports"
   ]
  },
  {
   "cell_type": "markdown",
   "id": "5d083da2-96b8-4509-bdfe-7e04cce12fd0",
   "metadata": {},
   "source": [
    "## Aggregate Data By Unique Issue"
   ]
  },
  {
   "cell_type": "code",
   "execution_count": null,
   "id": "269666b2-cb73-42a1-85e8-adb6f0de7515",
   "metadata": {},
   "outputs": [],
   "source": [
    "reports['issue_exist'] = reports.violations.apply(lambda x: 0 if x <= 0 else 1)\n",
    "reports_by_issues = reports.groupby(\n",
    "    ['resource_category'] + ISSUE_COLUMNS,\n",
    "    dropna=False\n",
    ").agg({\n",
    "    'page_type': lambda x: ','.join(set(x)),\n",
    "    'page_id': lambda x: ','.join(set(x)),\n",
    "    # 'page_url': lambda x: ','.join(set(x)),\n",
    "    'page_url': 'count',\n",
    "    'violations': 'sum',\n",
    "    'passes': 'sum',\n",
    "    'total_checks': 'sum',\n",
    "    'issue_exist': 'sum'\n",
    "}).reset_index()\n",
    "\n",
    "reports_by_issues['failure_rate'] = reports_by_issues.violations / reports_by_issues.total_checks\n",
    "reports_by_issues.rename(columns={'page_url': 'page_count'}, inplace=True)\n",
    "reports_by_issues['page_proportion'] = reports_by_issues.issue_exist\n",
    "reports_by_issues['page_proportion'] /= reports_by_issues.resource_category.apply(lambda x: NUM_DATA_PORTALS if x == 'data-portal' else NUM_JOURNALS)\n",
    "\n",
    "# grouped.to_csv(f'../data/{TIME_STAMP_FOLDER_NAME}/reports/report.csv', index=False)\n",
    "reports_by_issues.head(3)"
   ]
  },
  {
   "cell_type": "code",
   "execution_count": null,
   "id": "fbd54ab3-3d86-476b-a40a-686a001f3a7d",
   "metadata": {},
   "outputs": [],
   "source": [
    "alt.Chart(reports_by_issues[reports_by_issues.resource_category == 'data-portal']).mark_bar(\n",
    "    color=COLORS['data-portal']\n",
    ").encode(\n",
    "    alt.X('page_proportion:Q', title='Proportion of webpages with issues').axis(format='%', orient='top'),\n",
    "    alt.Y('issue_name:N', sort='-x', title=None).axis(titlePadding=40),\n",
    "    alt.Color('issue_overall_impact:N').scale(domain=['critical', 'moderate', 'minor'], range=['#d95f02', '#E69F00', 'grey']),\n",
    "    # alt.Color('resource_category:N').scale(domain=list(COLORS.keys()), range=list(COLORS.values())),\n",
    "    # alt.Column('resource_category:N')\n",
    ").properties(\n",
    "    height=1600,\n",
    "    width=600\n",
    ")"
   ]
  },
  {
   "cell_type": "code",
   "execution_count": null,
   "id": "c00c5410-a2b9-413b-916b-421551f0ea1b",
   "metadata": {},
   "outputs": [],
   "source": []
  },
  {
   "cell_type": "code",
   "execution_count": null,
   "id": "eaffbf9c-666c-4616-89f2-9c7e4b5752c6",
   "metadata": {},
   "outputs": [],
   "source": [
    "import pygwalker as pyg"
   ]
  },
  {
   "cell_type": "code",
   "execution_count": null,
   "id": "4faab1f0-ee85-4907-92e6-3adfd85cf2ea",
   "metadata": {},
   "outputs": [],
   "source": [
    "pyg.walk(reports_by_issues[reports_by_issues.resource_category == 'data-portal'])"
   ]
  },
  {
   "cell_type": "markdown",
   "id": "c56548f7-f92e-464d-b79e-2c73e13d5ec0",
   "metadata": {},
   "source": [
    "## Statistics"
   ]
  },
  {
   "cell_type": "code",
   "execution_count": null,
   "id": "7fbdc93f-aeeb-4549-a3ac-54402d3a1fb0",
   "metadata": {},
   "outputs": [],
   "source": [
    "dp = reports[reports.resource_category == 'data-portal']\n",
    "dp.loc[dp.violations == 0, 'website_id'] = ''\n",
    "\n",
    "ioi = dp.groupby(\n",
    "    'issue_overall_impact',\n",
    "    dropna=False\n",
    ").agg({\n",
    "    'website_id': lambda x: ',,,'.join(set(x)),\n",
    "    'page_type': lambda x: ','.join(set(x)),\n",
    "    'page_id': lambda x: ','.join(set(x)),\n",
    "    'page_url': 'count',\n",
    "    'violations': 'sum',\n",
    "    'passes': 'sum',\n",
    "    'total_checks': 'sum',\n",
    "    'issue_exist': 'sum'\n",
    "}).reset_index()\n",
    "\n",
    "ioi['websites'] = ioi.website_id.apply(lambda x: len(x.split(',,,')) - 1)\n",
    "ioi['page_proportion'] = ioi.websites\n",
    "ioi['page_proportion'] /= NUM_DATA_PORTALS\n",
    "\n",
    "ioi.head(3)\n",
    "\n",
    "# dp.to_csv('./test.csv')"
   ]
  },
  {
   "cell_type": "code",
   "execution_count": null,
   "id": "5cacc826-414c-48ec-a2cd-e5b345f90790",
   "metadata": {},
   "outputs": [],
   "source": [
    "dp.columns.tolist()"
   ]
  },
  {
   "cell_type": "code",
   "execution_count": null,
   "id": "bf247e99-875a-4942-ac41-3444def1d534",
   "metadata": {},
   "outputs": [],
   "source": [
    "dp = reports[reports.resource_category == 'data-portal']\n",
    "dp.loc[dp.violations == 0, 'website_id'] = ''\n",
    "\n",
    "ioi = dp.groupby(\n",
    "    'issue_missing_label_related',\n",
    "    dropna=False\n",
    ").agg({\n",
    "    'website_id': lambda x: ',,,'.join(set(x)),\n",
    "    'page_type': lambda x: ','.join(set(x)),\n",
    "    'page_id': lambda x: ','.join(set(x)),\n",
    "    'page_url': 'count',\n",
    "    'violations': 'sum',\n",
    "    'passes': 'sum',\n",
    "    'total_checks': 'sum',\n",
    "    'issue_exist': 'sum'\n",
    "}).reset_index()\n",
    "\n",
    "ioi['websites'] = ioi.website_id.apply(lambda x: len(x.split(',,,')) - 1)\n",
    "ioi['page_proportion'] = ioi.websites\n",
    "ioi['page_proportion'] /= NUM_DATA_PORTALS\n",
    "\n",
    "ioi.head(3)\n",
    "\n",
    "# dp.to_csv('./test.csv')"
   ]
  },
  {
   "cell_type": "code",
   "execution_count": null,
   "id": "033e868b-a790-409c-a4df-b0cbaea051d3",
   "metadata": {},
   "outputs": [],
   "source": [
    "dp = reports[reports.resource_category == 'data-portal']\n",
    "dp.loc[dp.violations == 0, 'website_id'] = ''\n",
    "\n",
    "ioi = dp.groupby(\n",
    "    'issue_severity',\n",
    "    dropna=False\n",
    ").agg({\n",
    "    'website_id': lambda x: ',,,'.join(set(x)),\n",
    "    'page_type': lambda x: ','.join(set(x)),\n",
    "    'page_id': lambda x: ','.join(set(x)),\n",
    "    'page_url': 'count',\n",
    "    'violations': 'sum',\n",
    "    'passes': 'sum',\n",
    "    'total_checks': 'sum',\n",
    "    'issue_exist': 'sum'\n",
    "}).reset_index()\n",
    "\n",
    "ioi['websites'] = ioi.website_id.apply(lambda x: len(x.split(',,,')) - 1)\n",
    "ioi['page_proportion'] = ioi.websites\n",
    "ioi['page_proportion'] /= NUM_DATA_PORTALS\n",
    "\n",
    "ioi.head(3)\n",
    "\n",
    "# dp.to_csv('./test.csv')"
   ]
  },
  {
   "cell_type": "code",
   "execution_count": null,
   "id": "153ff672-7da2-4f05-ace7-d8eb77099533",
   "metadata": {},
   "outputs": [],
   "source": [
    "dp = reports[reports.resource_category == 'data-portal']\n",
    "dp.loc[dp.violations == 0, 'website_id'] = ''\n",
    "\n",
    "ioi = dp.groupby(\n",
    "    'issue_data_related',\n",
    "    dropna=False\n",
    ").agg({\n",
    "    'website_id': lambda x: ',,,'.join(set(x)),\n",
    "    'page_type': lambda x: ','.join(set(x)),\n",
    "    'page_id': lambda x: ','.join(set(x)),\n",
    "    'page_url': 'count',\n",
    "    'violations': 'sum',\n",
    "    'passes': 'sum',\n",
    "    'total_checks': 'sum',\n",
    "    'issue_exist': 'sum'\n",
    "}).reset_index()\n",
    "\n",
    "ioi['websites'] = ioi.website_id.apply(lambda x: len(x.split(',,,')) - 1)\n",
    "ioi['page_proportion'] = ioi.websites\n",
    "ioi['page_proportion'] /= NUM_DATA_PORTALS\n",
    "\n",
    "ioi.head(3)\n",
    "\n",
    "# dp.to_csv('./test.csv')"
   ]
  },
  {
   "cell_type": "code",
   "execution_count": null,
   "id": "05d958c4-525c-47b9-b2d4-0f9260af02c7",
   "metadata": {},
   "outputs": [],
   "source": [
    "dp = reports[reports.resource_category == 'data-portal']\n",
    "dp.loc[dp.violations == 0, 'website_id'] = ''\n",
    "\n",
    "ioi = dp.groupby(\n",
    "    'issue_wcag_level',\n",
    "    dropna=False\n",
    ").agg({\n",
    "    'website_id': lambda x: ',,,'.join(set(x)),\n",
    "    'page_type': lambda x: ','.join(set(x)),\n",
    "    'page_id': lambda x: ','.join(set(x)),\n",
    "    'page_url': 'count',\n",
    "    'violations': 'sum',\n",
    "    'passes': 'sum',\n",
    "    'total_checks': 'sum',\n",
    "    'issue_exist': 'sum'\n",
    "}).reset_index()\n",
    "\n",
    "ioi['websites'] = ioi.website_id.apply(lambda x: len(x.split(',,,')) - 1)\n",
    "ioi['page_proportion'] = ioi.websites\n",
    "ioi['page_proportion'] /= NUM_DATA_PORTALS\n",
    "\n",
    "ioi.head(3)\n",
    "\n",
    "# dp.to_csv('./test.csv')"
   ]
  },
  {
   "cell_type": "code",
   "execution_count": null,
   "id": "8e556cf6-ccf2-431f-b657-b31ac2836115",
   "metadata": {},
   "outputs": [],
   "source": [
    "dp = reports[reports.resource_category == 'data-portal']\n",
    "dp.loc[dp.violations == 0, 'website_id'] = ''\n",
    "\n",
    "ioi = dp.groupby(\n",
    "    'issue_difficulty_to_fix',\n",
    "    dropna=False\n",
    ").agg({\n",
    "    'website_id': lambda x: ',,,'.join(set(x)),\n",
    "    'page_type': lambda x: ','.join(set(x)),\n",
    "    'page_id': lambda x: ','.join(set(x)),\n",
    "    'page_url': 'count',\n",
    "    'violations': 'sum',\n",
    "    'passes': 'sum',\n",
    "    'total_checks': 'sum',\n",
    "    'issue_exist': 'sum'\n",
    "}).reset_index()\n",
    "\n",
    "ioi['websites'] = ioi.website_id.apply(lambda x: len(x.split(',,,')) - 1)\n",
    "ioi['page_proportion'] = ioi.websites\n",
    "ioi['page_proportion'] /= NUM_DATA_PORTALS\n",
    "\n",
    "ioi.head(3)\n",
    "\n",
    "# dp.to_csv('./test.csv')"
   ]
  },
  {
   "cell_type": "code",
   "execution_count": null,
   "id": "a1d52836-10c7-485a-ac6a-d0a12b004ec3",
   "metadata": {},
   "outputs": [],
   "source": []
  }
 ],
 "metadata": {
  "kernelspec": {
   "display_name": "Python 3 (ipykernel)",
   "language": "python",
   "name": "python3"
  },
  "language_info": {
   "codemirror_mode": {
    "name": "ipython",
    "version": 3
   },
   "file_extension": ".py",
   "mimetype": "text/x-python",
   "name": "python",
   "nbconvert_exporter": "python",
   "pygments_lexer": "ipython3",
   "version": "3.10.13"
  }
 },
 "nbformat": 4,
 "nbformat_minor": 5
}
