{
 "cells": [
  {
   "cell_type": "markdown",
   "id": "b8ac9879-a6dc-4a31-9d52-6f383fae7488",
   "metadata": {},
   "source": [
    "# Data Wrangling (Optional)\n",
    "\n",
    "For the evaluation (`01-Evaluation.ipynb`), you need to prepare a csv file that has a header and includes at minimum a `url` column.\n",
    "\n",
    "This notebook creates the proper CSV files to be used in the evaluation. Some formatting guidelines for the data are:\n",
    "\n",
    "* Input files should be CSV files\n",
    "* Input files should have headers\n",
    "* For consistency, column names use underscores with lower cases, i.e., `short_name` instead of `shortName`"
   ]
  },
  {
   "cell_type": "code",
   "execution_count": null,
   "id": "e9f72278-fa49-4606-9bdb-15961b70094d",
   "metadata": {},
   "outputs": [],
   "source": [
    "import pandas as pd\n",
    "import requests\n",
    "from bs4 import BeautifulSoup\n",
    "import re"
   ]
  },
  {
   "cell_type": "code",
   "execution_count": null,
   "id": "d297ab02-e55c-40d3-ba55-cb3c30148c7d",
   "metadata": {},
   "outputs": [],
   "source": [
    "\"\"\"\n",
    "The name of the base folder you want to work on under `../data/`\n",
    "\"\"\"\n",
    "TIME_STAMP_FOLDER_NAME = '08-01-2024'"
   ]
  },
  {
   "cell_type": "code",
   "execution_count": null,
   "id": "58d0e56e-ccd0-4b24-ae1a-1de71da47a32",
   "metadata": {},
   "outputs": [],
   "source": [
    "\"\"\"\n",
    "Returns column names in consitent formats\n",
    "\"\"\"\n",
    "def consistent_column_names(df):\n",
    "    _ = df.copy()\n",
    "\n",
    "    \"\"\"\n",
    "    remove any white space\n",
    "    \"\"\"\n",
    "    _.columns = (_.columns.str.replace(' ', '_'))\n",
    "    \n",
    "    \"\"\"\n",
    "    appleJuice to apple_juice\n",
    "    \"\"\"\n",
    "    _.columns = (_.columns.str.replace('(?<=[a-z])(?=[A-Z])', '_', regex=True).str.lower())\n",
    "\n",
    "    \"\"\"\n",
    "    remove special characters\n",
    "    \"\"\"\n",
    "    _.columns = (_.columns.str.replace('[^A-Za-z0-9]+', '_', regex=True).str.lower())\n",
    "    \n",
    "    return _.columns"
   ]
  },
  {
   "cell_type": "code",
   "execution_count": null,
   "id": "2ed84260-dc65-4be1-8a54-e5a27d584885",
   "metadata": {},
   "outputs": [],
   "source": [
    "\"\"\"\n",
    "Returns website_id in consistent format\n",
    "\"\"\"\n",
    "def consistent_website_id(website_id):\n",
    "    return re.sub('[^A-Za-z0-9]+', '-', website_id)"
   ]
  },
  {
   "cell_type": "markdown",
   "id": "2574b0e5-110b-48fc-aa59-400debe12727",
   "metadata": {},
   "source": [
    "## Database Commons (JSON)\n",
    "\n",
    "The Database Commons (https://ngdc.cncb.ac.cn/databasecommons/) contains 6K+ data resources with URLs and other metadata.\n",
    "\n",
    "You can download the data using the following URL:\n",
    "\n",
    "> https://ngdc.cncb.ac.cn/databasecommons/database/browse?term=&q=&draw=1&columns%5B0%5D.data=0&columns%5B0%5D.name=&columns%5B0%5D.searchable=false&columns%5B0%5D.orderable=false&columns%5B0%5D.search.value=&columns%5B0%5D.search.regex=false&columns%5B1%5D.data=zindex&columns%5B1%5D.name=&columns%5B1%5D.searchable=true&columns%5B1%5D.orderable=true&columns%5B1%5D.search.value=&columns%5B1%5D.search.regex=false&columns%5B2%5D.data=citation&columns%5B2%5D.name=&columns%5B2%5D.searchable=true&columns%5B2%5D.orderable=true&columns%5B2%5D.search.value=&columns%5B2%5D.search.regex=false&columns%5B3%5D.data=shortName&columns%5B3%5D.name=&columns%5B3%5D.searchable=true&columns%5B3%5D.orderable=true&columns%5B3%5D.search.value=&columns%5B3%5D.search.regex=false&columns%5B4%5D.data=foundedYear&columns%5B4%5D.name=&columns%5B4%5D.searchable=true&columns%5B4%5D.orderable=true&columns%5B4%5D.search.value=&columns%5B4%5D.search.regex=false&order%5B0%5D.column=1&order%5B0%5D.dir=desc&order%5B1%5D.column=4&order%5B1%5D.dir=DESC&start=0&length=10000&search.value=&search.regex=false&_=1667231167872"
   ]
  },
  {
   "cell_type": "code",
   "execution_count": null,
   "id": "75d9304a-919c-4351-83c0-93ece2fb1bab",
   "metadata": {},
   "outputs": [],
   "source": [
    "\"\"\"\n",
    "Load the original data\n",
    "\"\"\"\n",
    "df = pd.read_json(f'../data/{TIME_STAMP_FOLDER_NAME}/input/data-portal/unformatted/database-commons.json')\n",
    "df.size\n",
    "# df.head(3)\n",
    "len(df.index)"
   ]
  },
  {
   "cell_type": "code",
   "execution_count": null,
   "id": "ffe4a9ad-c5e7-447d-a933-99a94a9590ac",
   "metadata": {},
   "outputs": [],
   "source": [
    "\"\"\"\n",
    "Consistent column names\n",
    "\"\"\"\n",
    "df.columns = consistent_column_names(df)"
   ]
  },
  {
   "cell_type": "code",
   "execution_count": null,
   "id": "fe18b88f-853c-497d-a9c1-c5bcaee8d8af",
   "metadata": {},
   "outputs": [],
   "source": [
    "\"\"\"\n",
    "Optionally, drop columns that we don't need\n",
    "\"\"\"\n",
    "df.drop(columns=['biodb_ranks', 'rating_list'], inplace=True)"
   ]
  },
  {
   "cell_type": "code",
   "execution_count": null,
   "id": "9c455416-19eb-43ff-bd9d-70267acf7550",
   "metadata": {},
   "outputs": [],
   "source": [
    "# Commenting out the deprecated data field\n",
    "# \"\"\"\n",
    "# The id from the sources are consistently \"source_id\"\n",
    "# The values should be a string type, and it has the prefix that represents the source (e.g. dc_ for Database Commons)\n",
    "# \"\"\"\n",
    "# df.rename(columns={ \"db_id\": \"source_id\" }, inplace=True)\n",
    "# df.source_id = df.source_id.apply(lambda x: 'dc_' + str(x))"
   ]
  },
  {
   "cell_type": "code",
   "execution_count": null,
   "id": "505e8cc1-2b2a-442d-8bad-0a679d7bcac9",
   "metadata": {},
   "outputs": [],
   "source": [
    "\"\"\"\n",
    "Some columns from data commons are in json format, we need to convert them to string\n",
    "Example: [{ \"id\": 1, \"name\": \"foo\" }, { \"id\": 2, \"name\": \"bar\" }] --> 'foo, bar'\n",
    "\"\"\"\n",
    "json_column_names_and_keys = {\n",
    "    'data_type_list': 'datatypeName', \n",
    "    'category_list': 'name',\n",
    "    'keywords_list': 'name',\n",
    "    'data_object_list': 'name',\n",
    "    'organism_list': 'organismName',\n",
    "    'theme_list': 'name'\n",
    "}\n",
    "\n",
    "for (column, key) in json_column_names_and_keys.items():\n",
    "    df[column] = df[column].apply(lambda x: ', '.join([object[key] for object in x]))"
   ]
  },
  {
   "cell_type": "code",
   "execution_count": null,
   "id": "6013afa6-6cc7-4bf8-b8c3-266b8d3d78d0",
   "metadata": {},
   "outputs": [],
   "source": [
    "\"\"\"\n",
    "Add unique IDs of websites\n",
    "\"\"\"\n",
    "df['website_id'] = df.short_name\n",
    "df.website_id = df.website_id.apply(lambda x: consistent_website_id(x))\n",
    "\n",
    "# Important: since there can be duplicated website names, add postfix to ensure the website_id is actually unique\n",
    "mask = df.website_id.duplicated(keep=False)\n",
    "df.loc[mask, 'website_id'] += df.groupby('website_id').cumcount().add(1).astype(str)"
   ]
  },
  {
   "cell_type": "code",
   "execution_count": null,
   "id": "590695f1-fcbb-4cc9-939b-031e4fb9d45f",
   "metadata": {},
   "outputs": [],
   "source": [
    "\"\"\"\n",
    "Add additional information for the analysis\n",
    "\"\"\"\n",
    "df['page_type'] = 'home'\n",
    "df['page_id'] = 0"
   ]
  },
  {
   "cell_type": "code",
   "execution_count": null,
   "id": "f32636e2-bf5f-4086-92bf-b88a8a8a3fe8",
   "metadata": {},
   "outputs": [],
   "source": [
    "df.head(3)\n",
    "# df.size"
   ]
  },
  {
   "cell_type": "code",
   "execution_count": null,
   "id": "20621d7a-aaf1-4bda-a0d9-127ba3690136",
   "metadata": {},
   "outputs": [],
   "source": [
    "\"\"\"\n",
    "Export the data\n",
    "\"\"\"\n",
    "df.to_csv(\n",
    "    f'../data/{TIME_STAMP_FOLDER_NAME}/input/data-portal/database-commons.csv',\n",
    "    index=False,\n",
    "    # to be sure, no allow ovewrite\n",
    "    # mode='x'\n",
    ")"
   ]
  },
  {
   "cell_type": "markdown",
   "id": "9f20022f-9e4f-4e65-a902-7737505179b9",
   "metadata": {},
   "source": [
    "## Scientific Journal Ranking (SJR) (CSV)\n",
    "\n",
    "The journal data is corrected from SJR (https://www.scimagojr.com/journalrank.php). An important information missing is that this does not contain the URLs of the jorunals. We parse the data from the website using the ID of each journal."
   ]
  },
  {
   "cell_type": "code",
   "execution_count": null,
   "id": "875ac7a6-a736-4add-9b3f-3f749df55ee9",
   "metadata": {},
   "outputs": [],
   "source": [
    "\"\"\"\n",
    "Load the original data\n",
    "\"\"\"\n",
    "df = pd.read_csv(f'../data/{TIME_STAMP_FOLDER_NAME}/input/journal/unformatted/sjr2022.csv', sep=';')\n",
    "len(df.index)"
   ]
  },
  {
   "cell_type": "code",
   "execution_count": null,
   "id": "12a22b41-3f9e-48ae-8f14-2d4da74f1033",
   "metadata": {},
   "outputs": [],
   "source": [
    "\"\"\"\n",
    "Consistent column names\n",
    "\"\"\"\n",
    "df.columns = consistent_column_names(df)"
   ]
  },
  {
   "cell_type": "code",
   "execution_count": null,
   "id": "1407a977-9397-4fec-99dd-9a50d2951f5e",
   "metadata": {},
   "outputs": [],
   "source": [
    "# Commenting out the deprecated data field\n",
    "# \"\"\"\n",
    "# The id from the sources are consistently \"source_id\"\n",
    "# The values should be a string type, and it has the prefix that represents the source (e.g. dc_ for Database Commons)\n",
    "# \"\"\"\n",
    "# df.rename(columns={ \"sourceid\": \"source_id\" }, inplace=True)\n",
    "# df.source_id = df.source_id.apply(lambda x: 'sjr_' + str(x))"
   ]
  },
  {
   "cell_type": "code",
   "execution_count": null,
   "id": "979d1252-b2bf-4586-9510-2c5dd084c9da",
   "metadata": {},
   "outputs": [],
   "source": [
    "\"\"\"\n",
    "Filter out journals that are not related to life science.\n",
    "\"\"\"\n",
    "# If you want to see the full list of areas, uncomment the below code\n",
    "# unique_areas = set()\n",
    "# for item in set(df_meta.areas):\n",
    "#     for area in item.split(';'):\n",
    "#         unique_areas.add(area)\n",
    "# print(unique_areas)\n",
    "\n",
    "# Interested in the following areas\n",
    "areas_interested = [\n",
    "    'Biochemistry, Genetics and Molecular Biology',\n",
    "    'Health Professions',\n",
    "    'Immunology and Microbiology',\n",
    "    'Medicine',\n",
    "    'Multidisciplinary',\n",
    "    'Neuroscience',\n",
    "    'Pharmacology, Toxicology and Pharmaceutics',\n",
    "    'Psychology',\n",
    "    'Agricultural and Biological Sciences'\n",
    "]\n",
    "\n",
    "# Filter out the metadata\n",
    "df = df[df.areas.str.contains('|'.join(areas_interested))]"
   ]
  },
  {
   "cell_type": "code",
   "execution_count": null,
   "id": "faa3d776-c1f3-4884-8f79-71cbe2f28fa0",
   "metadata": {},
   "outputs": [],
   "source": [
    "\"\"\"\n",
    "Exclude categories that are not relevant\n",
    "\"\"\"\n",
    "categories_to_keep = [\n",
    " 'Advanced and Specialized Nursing',\n",
    " 'Aging',\n",
    " 'Agricultural and Biological Sciences',\n",
    " 'Agronomy and Crop Science',\n",
    " 'Anatomy',\n",
    " 'Anesthesiology and Pain Medicine',\n",
    " 'Animal Science and Zoology',\n",
    " 'Anthropology',\n",
    " 'Applied Microbiology and Biotechnology',\n",
    " 'Applied Psychology',\n",
    " 'Assessment and Diagnosis',\n",
    " 'Atmospheric Science',\n",
    " 'Atomic and Molecular Physics, and Optics',\n",
    " 'Behavioral Neuroscience',\n",
    " 'Biochemistry',\n",
    " 'Biochemistry, Genetics and Molecular Biology',\n",
    " 'Bioengineering',\n",
    " 'Biological Psychiatry',\n",
    " 'Biomaterials',\n",
    " 'Biomedical Engineering',\n",
    " 'Biophysics',\n",
    " 'Biotechnology',\n",
    " 'Cancer Research',\n",
    " 'Cardiology and Cardiovascular Medicine',\n",
    " 'Catalysis',\n",
    " 'Cell Biology',\n",
    " 'Cellular and Molecular Neuroscience',\n",
    " 'Chemical Health and Safety',\n",
    " 'Chiropractics',\n",
    " 'Clinical Biochemistry',\n",
    " 'Clinical Psychology',\n",
    " 'Cognitive Neuroscience',\n",
    " 'Complementary and Alternative Medicine',\n",
    " 'Complementary and Manual Therapy',\n",
    " 'Critical Care Nursing',\n",
    " 'Critical Care and Intensive Care Medicine',\n",
    " 'Demography',\n",
    " 'Dental Assisting',\n",
    " 'Dental Hygiene',\n",
    " 'Dentistry',\n",
    " 'Dermatology',\n",
    " 'Development',\n",
    " 'Developmental Biology',\n",
    " 'Developmental Neuroscience',\n",
    " 'Developmental and Educational Psychology',\n",
    " 'Drug Discovery',\n",
    " 'Drug Guides',\n",
    " 'Emergency Medical Services',\n",
    " 'Emergency Medicine',\n",
    " 'Emergency Nursing',\n",
    " 'Endocrine and Autonomic Systems',\n",
    " 'Endocrinology',\n",
    " 'Endocrinology, Diabetes and Metabolism',\n",
    " 'Epidemiology',\n",
    " 'Experimental and Cognitive Psychology',\n",
    " 'Food Animals',\n",
    " 'Food Science',\n",
    " 'Gastroenterology',\n",
    " 'Gender Studies',\n",
    " 'Genetics',\n",
    " 'Health',\n",
    " 'Health Informatics',\n",
    " 'Health Information Management',\n",
    " 'Health Policy',\n",
    " 'Health Professions',\n",
    " 'Health, Toxicology and Mutagenesis',\n",
    " 'Hematology',\n",
    " 'Hepatology',\n",
    " 'Histology',\n",
    " 'Horticulture',\n",
    " 'Human Factors and Ergonomics',\n",
    " 'Immunology',\n",
    " 'Immunology and Allergy',\n",
    " 'Immunology and Microbiology',\n",
    " 'Infectious Diseases',\n",
    " 'Insect Science',\n",
    " 'Internal Medicine',\n",
    " 'Life-span and Life-course Studies',\n",
    " 'Linguistics and Language',\n",
    " 'Maternity and Midwifery',\n",
    " 'Medical Assisting and Transcription',\n",
    " 'Medical Laboratory Technology',\n",
    " 'Medical Terminology',\n",
    " 'Medical and Surgical Nursing',\n",
    " 'Medicine',\n",
    " 'Microbiology',\n",
    " 'Molecular Biology',\n",
    " 'Molecular Medicine',\n",
    " 'Multidisciplinary',\n",
    " 'Nanoscience and Nanotechnology',\n",
    " 'Nephrology',\n",
    " 'Neurology',\n",
    " 'Neuropsychology and Physiological Psychology',\n",
    " 'Neuroscience',\n",
    " 'Nurse Assisting',\n",
    " 'Nursing',\n",
    " 'Nutrition and Dietetics',\n",
    " 'Obstetrics and Gynecology',\n",
    " 'Occupational Therapy',\n",
    " 'Oncology',\n",
    " 'Ophthalmology',\n",
    " 'Optometry',\n",
    " 'Oral Surgery',\n",
    " 'Organic Chemistry',\n",
    " 'Orthodontics',\n",
    " 'Orthopedics and Sports Medicine',\n",
    " 'Otorhinolaryngology',\n",
    " 'Paleontology',\n",
    " 'Parasitology',\n",
    " 'Pathology and Forensic Medicine',\n",
    " 'Pediatrics',\n",
    " 'Pediatrics, Perinatology and Child Health',\n",
    " 'Periodontics',\n",
    " 'Pharmaceutical Science',\n",
    " 'Pharmacology',\n",
    " 'Pharmacology, Toxicology and Pharmaceutics',\n",
    " 'Pharmacy',\n",
    " 'Physical Therapy, Sports Therapy and Rehabilitation',\n",
    " 'Physiology',\n",
    " 'Plant Science',\n",
    " 'Podiatry',\n",
    " 'Process Chemistry and Technology',\n",
    " 'Psychiatry and Mental Health',\n",
    " 'Psychology',\n",
    " 'Public Health, Environmental and Occupational Health',\n",
    " 'Pulmonary and Respiratory Medicine',\n",
    " 'Radiation',\n",
    " 'Radiological and Ultrasound Technology',\n",
    " 'Radiology, Nuclear Medicine and Imaging',\n",
    " 'Rehabilitation',\n",
    " 'Reproductive Medicine',\n",
    " 'Respiratory Care',\n",
    " 'Rheumatology',\n",
    " 'Sensory Systems',\n",
    " 'Social Psychology',\n",
    " 'Speech and Hearing',\n",
    " 'Structural Biology',\n",
    " 'Surgery',\n",
    " 'Tourism, Leisure and Hospitality Management',\n",
    " 'Toxicology',\n",
    " 'Transplantation',\n",
    " 'Urology',\n",
    " 'Veterinary',\n",
    " 'Virology'\n",
    "]\n",
    "\n",
    "\n",
    "def remove_unkeep_areas(areas):\n",
    "    area_list = areas.split(\"; \")\n",
    "    area_list = [a.split(' (')[0] for a in area_list]\n",
    "    filtered_list = list(filter(lambda area: area in categories_to_keep, area_list))\n",
    "        \n",
    "    return \";\".join(filtered_list)\n",
    "    \n",
    "df.categories = df.categories.apply(lambda areas: remove_unkeep_areas(areas))"
   ]
  },
  {
   "cell_type": "code",
   "execution_count": null,
   "id": "a92fc4d7-fef1-4390-92e1-a389ba2f8796",
   "metadata": {},
   "outputs": [],
   "source": [
    "\"\"\"\n",
    "Remove journals from a manually selected list\n",
    "\"\"\"\n",
    "journals_to_unkeep = pd.read_csv(f'../data/{TIME_STAMP_FOLDER_NAME}/input/journal/unformatted/sjr-journals-to-filter.csv').title.unique().tolist()\n",
    "df.title = df.title.apply(lambda x: 'unkeep' if x in journals_to_unkeep else x)\n",
    "df = df[df.title != 'unkeep']"
   ]
  },
  {
   "cell_type": "code",
   "execution_count": null,
   "id": "770a0bb6-ae4b-4ff4-846f-bc15532bff64",
   "metadata": {},
   "outputs": [],
   "source": [
    "len(df.index)"
   ]
  },
  {
   "cell_type": "code",
   "execution_count": null,
   "id": "5c4c31f6-6635-4860-8c00-844f09456508",
   "metadata": {},
   "outputs": [],
   "source": [
    "\"\"\"\n",
    "Add unique IDs of websites\n",
    "\"\"\"\n",
    "df['website_id'] = df.title\n",
    "df.website_id = df.website_id.apply(lambda x: consistent_website_id(x))\n",
    "\n",
    "# Important: since there can be duplicated website names, add postfix to ensure the website_id is actually unique\n",
    "mask = df.website_id.duplicated(keep=False)\n",
    "df.loc[mask, 'website_id'] += df.groupby('website_id').cumcount().add(1).astype(str)"
   ]
  },
  {
   "cell_type": "code",
   "execution_count": null,
   "id": "47f0fadc-f7dc-4499-986a-47c44ac536b8",
   "metadata": {},
   "outputs": [],
   "source": [
    "\"\"\"\n",
    "Remove discontinued jorunals\n",
    "\"\"\"\n",
    "df = df[~df.website_id.str.contains('discontinued')]"
   ]
  },
  {
   "cell_type": "code",
   "execution_count": null,
   "id": "193c3912-9132-43ec-a312-afe5e30c71ec",
   "metadata": {},
   "outputs": [],
   "source": [
    "\"\"\"\n",
    "Add additional information for the analysis\n",
    "\"\"\"\n",
    "df['page_type'] = 'home'\n",
    "df['page_id'] = 0"
   ]
  },
  {
   "cell_type": "code",
   "execution_count": null,
   "id": "f5dbf37c-c235-4e27-b7d7-fe7a1ad94c10",
   "metadata": {},
   "outputs": [],
   "source": [
    "\"\"\"\n",
    "Using `Sourceid` of SJR, get URLs of individual journal portals\n",
    "TODO: Reuse the previously identified home pages\n",
    "\"\"\"\n",
    "def infer_homepage(Sourceid):\n",
    "    info_url = f'https://www.scimagojr.com/journalsearch.php?q={Sourceid}&tip=sid&clean=0'\n",
    "    html_text = requests.get(info_url).text\n",
    "    soup = BeautifulSoup(html_text, 'html.parser')\n",
    "    urls = soup.find_all('a', text=re.compile('Homepage'))\n",
    "    if len(urls) > 0:\n",
    "        return urls[0].get('href')\n",
    "    else:\n",
    "        print(f'No homepage found for {Sourceid}')\n",
    "        return None\n",
    "\n",
    "df['url'] = df['sourceid'].apply(lambda x: infer_homepage(x))"
   ]
  },
  {
   "cell_type": "code",
   "execution_count": null,
   "id": "ee58bb6b-c2c8-410c-9a6a-494541e6e5ff",
   "metadata": {},
   "outputs": [],
   "source": [
    "\"\"\"\n",
    "Filter out jorunals with no URL\n",
    "\"\"\"\n",
    "df = df[df.url.notnull()]"
   ]
  },
  {
   "cell_type": "code",
   "execution_count": null,
   "id": "1a102fa5-006f-4fa1-85d1-b0f65f641ec4",
   "metadata": {},
   "outputs": [],
   "source": [
    "\"\"\"\n",
    "Export the data\n",
    "\"\"\"\n",
    "df.to_csv(\n",
    "    f'../data/{TIME_STAMP_FOLDER_NAME}/input/journal/sjr2022.csv',\n",
    "    index=False,\n",
    "    # to be sure, no allow ovewrite\n",
    "    # mode='x'\n",
    ")"
   ]
  },
  {
   "cell_type": "markdown",
   "id": "77e9a60c-951c-4ade-abd3-34c0e47be43d",
   "metadata": {},
   "source": [
    "## US Government"
   ]
  },
  {
   "cell_type": "code",
   "execution_count": null,
   "id": "d8d01b9a-2f42-4f24-817f-2ced26c4caaf",
   "metadata": {},
   "outputs": [],
   "source": [
    "\"\"\"\n",
    "Load the original data\n",
    "\"\"\"\n",
    "df = pd.read_csv(f'../data/{TIME_STAMP_FOLDER_NAME}/input/government/unformatted/current-federal.csv')"
   ]
  },
  {
   "cell_type": "code",
   "execution_count": null,
   "id": "9cb9bcec-5d59-4feb-aa6d-cd6d5df03e95",
   "metadata": {},
   "outputs": [],
   "source": [
    "\"\"\"\n",
    "We use underscore lowercase column names\n",
    "\"\"\"\n",
    "df.columns = consistent_column_names(df)"
   ]
  },
  {
   "cell_type": "code",
   "execution_count": null,
   "id": "3757e9e4-54c2-4d2f-939e-0fd9e44ff355",
   "metadata": {},
   "outputs": [],
   "source": [
    "\"\"\"\n",
    "Add a URL column\n",
    "\"\"\"\n",
    "df['url'] = ('https://' + df.domain_name)\n",
    "df['name'] = df.domain_name"
   ]
  },
  {
   "cell_type": "code",
   "execution_count": null,
   "id": "bc2018c1-6977-43a5-ae76-43e2156aa140",
   "metadata": {},
   "outputs": [],
   "source": [
    "\"\"\"\n",
    "Add unique IDs of websites\n",
    "\"\"\"\n",
    "df['website_id'] = df.name\n",
    "df.website_id = df.website_id.apply(lambda x: consistent_website_id(x))\n",
    "\n",
    "# Important: since there can be duplicated website names, add postfix to ensure the website_id is actually unique\n",
    "mask = df.website_id.duplicated(keep=False)\n",
    "df.loc[mask, 'website_id'] += df.groupby('website_id').cumcount().add(1).astype(str)"
   ]
  },
  {
   "cell_type": "code",
   "execution_count": null,
   "id": "97d55fec-50b9-416c-a9c2-b8a366202104",
   "metadata": {},
   "outputs": [],
   "source": [
    "\"\"\"\n",
    "Add additional information for the analysis\n",
    "\"\"\"\n",
    "df['page_type'] = 'home'\n",
    "df['page_id'] = 0"
   ]
  },
  {
   "cell_type": "code",
   "execution_count": null,
   "id": "ccd16e35-9cb6-424b-bf3a-d9fc96aa62ac",
   "metadata": {},
   "outputs": [],
   "source": [
    "\"\"\"\n",
    "Export the data\n",
    "\"\"\"\n",
    "df.to_csv(\n",
    "    f'../data/{TIME_STAMP_FOLDER_NAME}/input/government/current-federal.csv',\n",
    "    index=False,\n",
    "    # to be sure, no allow ovewrite\n",
    "#     mode='x'\n",
    ")"
   ]
  },
  {
   "cell_type": "code",
   "execution_count": null,
   "id": "43747037-de7c-4e75-ad57-c4ffc14feb11",
   "metadata": {},
   "outputs": [],
   "source": []
  }
 ],
 "metadata": {
  "kernelspec": {
   "display_name": "Python 3 (ipykernel)",
   "language": "python",
   "name": "python3"
  },
  "language_info": {
   "codemirror_mode": {
    "name": "ipython",
    "version": 3
   },
   "file_extension": ".py",
   "mimetype": "text/x-python",
   "name": "python",
   "nbconvert_exporter": "python",
   "pygments_lexer": "ipython3",
   "version": "3.10.13"
  }
 },
 "nbformat": 4,
 "nbformat_minor": 5
}
