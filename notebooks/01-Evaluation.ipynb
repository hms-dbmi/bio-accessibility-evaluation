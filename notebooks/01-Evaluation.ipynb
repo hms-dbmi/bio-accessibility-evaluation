{
 "cells": [
  {
   "cell_type": "markdown",
   "id": "6ce253e9-9d25-407a-87ab-1a3eb4f73cf6",
   "metadata": {},
   "source": [
    "# Evaluation\n",
    "\n",
    "## How To Evaluate\n",
    "You need to run two nodejs scripts in sequence to collect accessibility evaluation results:\n",
    "\n",
    "1. `../javascript/evaluate-and-save-reports.js`\n",
    "2. `../javascript/summarize-reports.js`\n",
    "\n",
    "Before running, several things prepare:\n",
    "\n",
    "1. Under the `../data` folder, create a new folder with a meaningful date (e.g., `07-29-2024`)\n",
    "2. Add csv file(s) under the `../data/input` that lists URLs that you want to test. The script will load all CSV files (`*.csv`) and run the evaluation.\n",
    "3. The csv file at minimum should contain a column name `url` (non-headless)\n",
    "4. Other columns used, if present, are `page_type` (e.g., `home` or `document`) and `page_id` (an unique ID to this page)"
   ]
  },
  {
   "cell_type": "markdown",
   "id": "49309466-9c39-4204-bf53-bd7f1fcb3029",
   "metadata": {},
   "source": [
    "## Run Evaluation\n",
    "### Configure the Parameter"
   ]
  },
  {
   "cell_type": "code",
   "execution_count": 2,
   "id": "b3d368bd-0bb9-497a-b073-da220f9cbd8b",
   "metadata": {},
   "outputs": [],
   "source": [
    "\"\"\"\n",
    "The name of the folder you created under `../data/`\n",
    "\"\"\"\n",
    "TIME_STAMP_FOLDER_NAME = '08-01-2024'"
   ]
  },
  {
   "cell_type": "code",
   "execution_count": 2,
   "id": "af476c3d-3c06-4935-aa0b-fa9809c36520",
   "metadata": {},
   "outputs": [
    {
     "name": "stdout",
     "output_type": "stream",
     "text": [
      "\u001b[1m\u001b[36mdata-portal\u001b[m\u001b[m\n",
      "\n",
      "../data/08-01-2024/input/data-portal:\n",
      "database-commons.csv hubmap.csv           \u001b[1m\u001b[36munformatted\u001b[m\u001b[m\n",
      "\n",
      "../data/08-01-2024/input/data-portal/unformatted:\n",
      "database-commons.json\n"
     ]
    }
   ],
   "source": [
    "\"\"\"\n",
    "Let's check if an input file exist\n",
    "\"\"\"\n",
    "!ls -R ../data/{TIME_STAMP_FOLDER_NAME}/input"
   ]
  },
  {
   "cell_type": "markdown",
   "id": "85180f4e-d182-403d-9c98-77afec2cdf54",
   "metadata": {},
   "source": [
    "### Run the Testing"
   ]
  },
  {
   "cell_type": "code",
   "execution_count": null,
   "id": "a4a4f563-dcdf-410a-b1da-f97392d6d30c",
   "metadata": {},
   "outputs": [],
   "source": [
    "\"\"\"\n",
    "Run the accessibility testing. This takes 10 hours for 7K+ URLs.\n",
    "\"\"\"\n",
    "!node ../javascript/evaluate-and-save-reports.js {TIME_STAMP_FOLDER_NAME}"
   ]
  },
  {
   "cell_type": "markdown",
   "id": "5d9dbba6-7311-43c5-97e7-2384acc606b9",
   "metadata": {},
   "source": [
    "### Summarize the reports"
   ]
  },
  {
   "cell_type": "code",
   "execution_count": 15,
   "id": "54c53dbf-b3da-4007-9d45-0afe79ee6400",
   "metadata": {},
   "outputs": [],
   "source": [
    "\"\"\"\n",
    "Summarize the reports and save a CSV file. This shouldn't take more than a minute.\n",
    "\"\"\"\n",
    "!node --max-old-space-size=8192 ../javascript/summarize-reports.js {TIME_STAMP_FOLDER_NAME}"
   ]
  },
  {
   "cell_type": "code",
   "execution_count": null,
   "id": "b25fe5e8-653f-4394-a289-70cf2ba87ae1",
   "metadata": {},
   "outputs": [],
   "source": [
    "\"\"\"\n",
    "Check if files are created properly\n",
    "\"\"\"\n",
    "!ls -R ../data/{TIME_STAMP_FOLDER_NAME}/reports"
   ]
  },
  {
   "cell_type": "code",
   "execution_count": null,
   "id": "968d93f9-9395-4156-bc97-978abd99fafc",
   "metadata": {},
   "outputs": [],
   "source": []
  }
 ],
 "metadata": {
  "kernelspec": {
   "display_name": "Python (myenv)",
   "language": "python",
   "name": "kong"
  },
  "language_info": {
   "codemirror_mode": {
    "name": "ipython",
    "version": 3
   },
   "file_extension": ".py",
   "mimetype": "text/x-python",
   "name": "python",
   "nbconvert_exporter": "python",
   "pygments_lexer": "ipython3",
   "version": "3.9.19"
  }
 },
 "nbformat": 4,
 "nbformat_minor": 5
}
