{
 "cells": [
  {
   "cell_type": "markdown",
   "id": "dfcf5a59-cdb5-447a-a02a-00691e556ece",
   "metadata": {},
   "source": [
    "# Accessibility Issues (Optional)\n",
    "\n",
    "This notebook explores unique accessibility issues defined by Axe (axe-core) that were identified in evaluation data."
   ]
  },
  {
   "cell_type": "code",
   "execution_count": null,
   "id": "60ceed6d-ec79-4645-a042-d6c8f198d611",
   "metadata": {},
   "outputs": [],
   "source": [
    "import pandas as pd"
   ]
  },
  {
   "cell_type": "code",
   "execution_count": null,
   "id": "7466ae00-9490-48b0-9d84-45888d549df2",
   "metadata": {},
   "outputs": [],
   "source": [
    "\"\"\"\n",
    "The name of the folder you created under `../data/`\n",
    "\"\"\"\n",
    "TIME_STAMP_FOLDER_NAME = '08-01-2024'"
   ]
  },
  {
   "cell_type": "code",
   "execution_count": null,
   "id": "125508c9-300c-4d98-b0e5-e0e0f6757382",
   "metadata": {},
   "outputs": [],
   "source": [
    "df = pd.read_csv(f'../data/{TIME_STAMP_FOLDER_NAME}/results/unique-issues.csv')\n",
    "df"
   ]
  },
  {
   "cell_type": "code",
   "execution_count": null,
   "id": "837bd61c-34bc-4aa8-bbcf-836b60287d67",
   "metadata": {},
   "outputs": [],
   "source": []
  }
 ],
 "metadata": {
  "kernelspec": {
   "display_name": "Python 3 (ipykernel)",
   "language": "python",
   "name": "python3"
  },
  "language_info": {
   "codemirror_mode": {
    "name": "ipython",
    "version": 3
   },
   "file_extension": ".py",
   "mimetype": "text/x-python",
   "name": "python",
   "nbconvert_exporter": "python",
   "pygments_lexer": "ipython3",
   "version": "3.10.13"
  }
 },
 "nbformat": 4,
 "nbformat_minor": 5
}
